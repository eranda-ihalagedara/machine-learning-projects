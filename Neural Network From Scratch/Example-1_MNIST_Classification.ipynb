{
 "cells": [
  {
   "cell_type": "markdown",
   "id": "4bb87014-4f60-4a70-9e54-fee389c3f0f2",
   "metadata": {},
   "source": [
    "# MNIST Data Classifier"
   ]
  },
  {
   "cell_type": "markdown",
   "id": "a67c4762-24dd-45d5-9181-a63e97765365",
   "metadata": {},
   "source": [
    "## Background\n",
    "This is an example use of the custom neural network pakcage `NN` in the repository [machine-learning-projects](https://github.com/eranda-ihalagedara/machine-learning-projects/tree/main/Neural%20Network%20From%20Scratch). Before, running this notebook, make sure you have the package folder `NN` in your working directory along with the notebook."
   ]
  },
  {
   "cell_type": "markdown",
   "id": "1ac9b62d-0901-4643-84ee-48199402031d",
   "metadata": {},
   "source": [
    "## Dataset\n",
    "MNIST dataset stands for Modified National Institute of Standards and Technology dataset. It is a large set of labelled images of handwritten digits. Each image is of 28x28 pixels of size in grayscale. It is already split in to 60000 training images and 10000 test images."
   ]
  },
  {
   "cell_type": "markdown",
   "id": "81badb8e-9a86-4824-addf-796d26d8feb9",
   "metadata": {},
   "source": [
    "## Importing Required Libraries\n",
    "This notebook uses the following additional libaries. Make sure, you have installed them in your Python environment.  \n",
    "\n",
    "- `scikit-learn`:\n",
    "  To get the dataset and one-hot encode the labels\n",
    "- `numpy`:\n",
    "  To make input data to be `numpy.ndarray`s and reshaping data to be compatible with the `NN` package\n",
    "- `matplotlib`:\n",
    "  For plotting"
   ]
  },
  {
   "cell_type": "code",
   "execution_count": 8,
   "id": "cfb4d5b8-42ce-48e1-a39f-a6125b98301f",
   "metadata": {},
   "outputs": [],
   "source": [
    "from sklearn.datasets import fetch_openml\n",
    "from sklearn.preprocessing import OneHotEncoder\n",
    "from matplotlib import pyplot as plt\n",
    "import numpy as np\n",
    "import NN as nn"
   ]
  },
  {
   "cell_type": "markdown",
   "id": "3fac8a44-4ca6-45f8-ad13-8d1aaf090129",
   "metadata": {},
   "source": [
    "## Prepare Dataset"
   ]
  },
  {
   "cell_type": "markdown",
   "id": "dcb864f0-b593-4a10-a468-388d1507b3b6",
   "metadata": {},
   "source": [
    "### Fetch data\n",
    "We can fetch the MNIST dataset with `fetch_openml` and check the data type and size."
   ]
  },
  {
   "cell_type": "code",
   "execution_count": 10,
   "id": "5d82c63b-822b-4584-aec5-2c6e56d28e16",
   "metadata": {},
   "outputs": [
    {
     "data": {
      "text/plain": [
       "((70000, 784), (70000,))"
      ]
     },
     "execution_count": 10,
     "metadata": {},
     "output_type": "execute_result"
    }
   ],
   "source": [
    "mnist = fetch_openml('mnist_784', as_frame=False, parser='auto')\n",
    "\n",
    "X = mnist.data\n",
    "y = mnist.target"
   ]
  },
  {
   "cell_type": "code",
   "execution_count": 12,
   "id": "1107626c-5505-43d3-ac2a-58f0a1ad34dc",
   "metadata": {},
   "outputs": [
    {
     "data": {
      "text/plain": [
       "(numpy.ndarray, numpy.ndarray)"
      ]
     },
     "execution_count": 12,
     "metadata": {},
     "output_type": "execute_result"
    }
   ],
   "source": [
    "type(X), type(y)"
   ]
  },
  {
   "cell_type": "code",
   "execution_count": 13,
   "id": "118adf81-117c-470f-9b7a-af681d6aa388",
   "metadata": {},
   "outputs": [
    {
     "data": {
      "text/plain": [
       "((70000, 784), (70000,))"
      ]
     },
     "execution_count": 13,
     "metadata": {},
     "output_type": "execute_result"
    }
   ],
   "source": [
    "X.shape, y.shape"
   ]
  },
  {
   "cell_type": "markdown",
   "id": "2dbc02f0-cb92-4db5-8c30-6f9fbcad786e",
   "metadata": {},
   "source": [
    "There are `70000` samples with `784` pixels in each image."
   ]
  },
  {
   "cell_type": "markdown",
   "id": "ff73ec6b-a4f4-46ef-8a57-d721ebbe8911",
   "metadata": {},
   "source": [
    "### Encode Labels  \n",
    "Since this is a classification, we have to encode the labels. We will use `OneHotEncoder` of `scikit-learn` package. It gives one-hot enoded set of labels. Check out the [OneHotEncoder](https://scikit-learn.org/stable/modules/generated/sklearn.preprocessing.OneHotEncoder.html) and [One-hot](https://en.wikipedia.org/wiki/One-hot)"
   ]
  },
  {
   "cell_type": "code",
   "execution_count": 15,
   "id": "63867bc8-bee2-4b1e-946d-091e47dfd734",
   "metadata": {},
   "outputs": [],
   "source": [
    "encoder = OneHotEncoder(sparse_output=False)"
   ]
  },
  {
   "cell_type": "code",
   "execution_count": null,
   "id": "96c3cedb-21ee-4ffb-ae2f-011e92c9f043",
   "metadata": {},
   "outputs": [],
   "source": [
    "Note that the labels, `y`, is a 1D array in shape `(70000,)`. See what happens when we try to fit labels to the encoder."
   ]
  },
  {
   "cell_type": "code",
   "execution_count": 17,
   "id": "fe86824b-519d-4d11-bcd7-53c36f0e7840",
   "metadata": {},
   "outputs": [
    {
     "name": "stdout",
     "output_type": "stream",
     "text": [
      "Expected 2D array, got 1D array instead:\n",
      "array=['5' '0' '4' ... '4' '5' '6'].\n",
      "Reshape your data either using array.reshape(-1, 1) if your data has a single feature or array.reshape(1, -1) if it contains a single sample.\n"
     ]
    }
   ],
   "source": [
    "try:\n",
    "    encoder.fit(y)\n",
    "except Exception as e:\n",
    "    print (e)"
   ]
  },
  {
   "cell_type": "markdown",
   "id": "1bd77a2f-aeae-4bb8-9101-9f14f1bfac02",
   "metadata": {},
   "source": [
    "We have to make `y` a 2D array with `.reshape(-1,1)`"
   ]
  },
  {
   "cell_type": "code",
   "execution_count": 19,
   "id": "69d63cab-5487-43a1-b327-cfcb931d4428",
   "metadata": {},
   "outputs": [
    {
     "data": {
      "text/html": [
       "<style>#sk-container-id-1 {color: black;background-color: white;}#sk-container-id-1 pre{padding: 0;}#sk-container-id-1 div.sk-toggleable {background-color: white;}#sk-container-id-1 label.sk-toggleable__label {cursor: pointer;display: block;width: 100%;margin-bottom: 0;padding: 0.3em;box-sizing: border-box;text-align: center;}#sk-container-id-1 label.sk-toggleable__label-arrow:before {content: \"▸\";float: left;margin-right: 0.25em;color: #696969;}#sk-container-id-1 label.sk-toggleable__label-arrow:hover:before {color: black;}#sk-container-id-1 div.sk-estimator:hover label.sk-toggleable__label-arrow:before {color: black;}#sk-container-id-1 div.sk-toggleable__content {max-height: 0;max-width: 0;overflow: hidden;text-align: left;background-color: #f0f8ff;}#sk-container-id-1 div.sk-toggleable__content pre {margin: 0.2em;color: black;border-radius: 0.25em;background-color: #f0f8ff;}#sk-container-id-1 input.sk-toggleable__control:checked~div.sk-toggleable__content {max-height: 200px;max-width: 100%;overflow: auto;}#sk-container-id-1 input.sk-toggleable__control:checked~label.sk-toggleable__label-arrow:before {content: \"▾\";}#sk-container-id-1 div.sk-estimator input.sk-toggleable__control:checked~label.sk-toggleable__label {background-color: #d4ebff;}#sk-container-id-1 div.sk-label input.sk-toggleable__control:checked~label.sk-toggleable__label {background-color: #d4ebff;}#sk-container-id-1 input.sk-hidden--visually {border: 0;clip: rect(1px 1px 1px 1px);clip: rect(1px, 1px, 1px, 1px);height: 1px;margin: -1px;overflow: hidden;padding: 0;position: absolute;width: 1px;}#sk-container-id-1 div.sk-estimator {font-family: monospace;background-color: #f0f8ff;border: 1px dotted black;border-radius: 0.25em;box-sizing: border-box;margin-bottom: 0.5em;}#sk-container-id-1 div.sk-estimator:hover {background-color: #d4ebff;}#sk-container-id-1 div.sk-parallel-item::after {content: \"\";width: 100%;border-bottom: 1px solid gray;flex-grow: 1;}#sk-container-id-1 div.sk-label:hover label.sk-toggleable__label {background-color: #d4ebff;}#sk-container-id-1 div.sk-serial::before {content: \"\";position: absolute;border-left: 1px solid gray;box-sizing: border-box;top: 0;bottom: 0;left: 50%;z-index: 0;}#sk-container-id-1 div.sk-serial {display: flex;flex-direction: column;align-items: center;background-color: white;padding-right: 0.2em;padding-left: 0.2em;position: relative;}#sk-container-id-1 div.sk-item {position: relative;z-index: 1;}#sk-container-id-1 div.sk-parallel {display: flex;align-items: stretch;justify-content: center;background-color: white;position: relative;}#sk-container-id-1 div.sk-item::before, #sk-container-id-1 div.sk-parallel-item::before {content: \"\";position: absolute;border-left: 1px solid gray;box-sizing: border-box;top: 0;bottom: 0;left: 50%;z-index: -1;}#sk-container-id-1 div.sk-parallel-item {display: flex;flex-direction: column;z-index: 1;position: relative;background-color: white;}#sk-container-id-1 div.sk-parallel-item:first-child::after {align-self: flex-end;width: 50%;}#sk-container-id-1 div.sk-parallel-item:last-child::after {align-self: flex-start;width: 50%;}#sk-container-id-1 div.sk-parallel-item:only-child::after {width: 0;}#sk-container-id-1 div.sk-dashed-wrapped {border: 1px dashed gray;margin: 0 0.4em 0.5em 0.4em;box-sizing: border-box;padding-bottom: 0.4em;background-color: white;}#sk-container-id-1 div.sk-label label {font-family: monospace;font-weight: bold;display: inline-block;line-height: 1.2em;}#sk-container-id-1 div.sk-label-container {text-align: center;}#sk-container-id-1 div.sk-container {/* jupyter's `normalize.less` sets `[hidden] { display: none; }` but bootstrap.min.css set `[hidden] { display: none !important; }` so we also need the `!important` here to be able to override the default hidden behavior on the sphinx rendered scikit-learn.org. See: https://github.com/scikit-learn/scikit-learn/issues/21755 */display: inline-block !important;position: relative;}#sk-container-id-1 div.sk-text-repr-fallback {display: none;}</style><div id=\"sk-container-id-1\" class=\"sk-top-container\"><div class=\"sk-text-repr-fallback\"><pre>OneHotEncoder(sparse_output=False)</pre><b>In a Jupyter environment, please rerun this cell to show the HTML representation or trust the notebook. <br />On GitHub, the HTML representation is unable to render, please try loading this page with nbviewer.org.</b></div><div class=\"sk-container\" hidden><div class=\"sk-item\"><div class=\"sk-estimator sk-toggleable\"><input class=\"sk-toggleable__control sk-hidden--visually\" id=\"sk-estimator-id-1\" type=\"checkbox\" checked><label for=\"sk-estimator-id-1\" class=\"sk-toggleable__label sk-toggleable__label-arrow\">OneHotEncoder</label><div class=\"sk-toggleable__content\"><pre>OneHotEncoder(sparse_output=False)</pre></div></div></div></div></div>"
      ],
      "text/plain": [
       "OneHotEncoder(sparse_output=False)"
      ]
     },
     "execution_count": 19,
     "metadata": {},
     "output_type": "execute_result"
    }
   ],
   "source": [
    "y = y.reshape(-1,1)\n",
    "encoder.fit(y)"
   ]
  },
  {
   "cell_type": "markdown",
   "id": "5bd53f98-87f9-4198-afc7-c1f9927afa5d",
   "metadata": {},
   "source": [
    "Now we can encode the labels with `.transform()`"
   ]
  },
  {
   "cell_type": "code",
   "execution_count": 22,
   "id": "904be9f1-b2c8-4ff8-ad16-bf9e6f1edf19",
   "metadata": {},
   "outputs": [
    {
     "data": {
      "text/plain": [
       "(70000, 10)"
      ]
     },
     "execution_count": 22,
     "metadata": {},
     "output_type": "execute_result"
    }
   ],
   "source": [
    "y_enc = encoder.transform(y)\n",
    "y_enc.shape"
   ]
  },
  {
   "cell_type": "markdown",
   "id": "41e6620d-37b9-4fa7-9eab-92a2b098a144",
   "metadata": {},
   "source": [
    "### Reshape Data\n",
    "Recall, we have to reshape data such that the features are along rows and samples are along columns. Right now, each sample is in the rows. We can change this by simply transposing the `ndarray`."
   ]
  },
  {
   "cell_type": "code",
   "execution_count": 23,
   "id": "fc0e2538-7c2a-42e1-b193-2a9e581dc113",
   "metadata": {},
   "outputs": [
    {
     "data": {
      "text/plain": [
       "((784, 70000), (10, 70000))"
      ]
     },
     "execution_count": 23,
     "metadata": {},
     "output_type": "execute_result"
    }
   ],
   "source": [
    "X = X.T\n",
    "y_enc = y_enc.T\n",
    "X.shape, y_enc.shape"
   ]
  },
  {
   "cell_type": "markdown",
   "id": "8423f5e8-a624-437d-ae97-5d79e1dfe9d3",
   "metadata": {},
   "source": [
    "## Train-Test Split\n",
    "Before training the model we have to keep aside test data. This is already done in the dataset as the last 10000."
   ]
  },
  {
   "cell_type": "code",
   "execution_count": null,
   "id": "ee967408-54b0-406e-9c81-26c5b5732df0",
   "metadata": {},
   "outputs": [],
   "source": [
    "X_train, X_test = X[:, :60000], X[:, 60000:]\n",
    "y_train, y_test = y_enc[:, :60000], y[:, 60000:]"
   ]
  },
  {
   "cell_type": "code",
   "execution_count": 24,
   "id": "cb57dc72-0b5b-4e92-a4f3-0ba627d850e5",
   "metadata": {},
   "outputs": [],
   "source": [
    "X_train, X_test = X[:, :60000], X[:, 60000:]\n",
    "y_train, y_test = y_enc[:, :60000], y_enc[:, 60000:]"
   ]
  },
  {
   "cell_type": "markdown",
   "id": "339f17f4-d5f0-4968-bae2-93f2383f7de4",
   "metadata": {},
   "source": [
    "## View Images\n",
    "Before we begin training, let's view the handwritten images"
   ]
  },
  {
   "cell_type": "code",
   "execution_count": 32,
   "id": "2eed3546-0e46-43f8-99de-c5909109e4ce",
   "metadata": {},
   "outputs": [
    {
     "data": {
      "image/png": "[encoded data removed]",
      "text/plain": [
       "<Figure size 200x200 with 1 Axes>"
      ]
     },
     "metadata": {},
     "output_type": "display_data"
    }
   ],
   "source": [
    "def plot_image(digit):\n",
    "    plt.figure(figsize=(2,2))\n",
    "    plt.imshow(digit.reshape((28,28)), cmap='gray')\n",
    "    plt.axis('off')\n",
    "\n",
    "plot_image(X[:,0])"
   ]
  },
  {
   "cell_type": "code",
   "execution_count": 33,
   "id": "c6901e68-1bcb-4473-9f81-10a0e9ef30ec",
   "metadata": {},
   "outputs": [
    {
     "data": {
      "text/plain": [
       "array(['5'], dtype=object)"
      ]
     },
     "execution_count": 33,
     "metadata": {},
     "output_type": "execute_result"
    }
   ],
   "source": [
    "y[0]"
   ]
  },
  {
   "cell_type": "markdown",
   "id": "30cf1dd7-87e5-49a8-91f0-6e21c53b8fb6",
   "metadata": {},
   "source": [
    "## Build a Model\n",
    "For MNIST classification, let's define a model with the following specifications:\n",
    "- A Fully Connected layer of size 32 with `relu` activation\n",
    "- Two Fully Connected layers, each of size 64 with `relu` activation\n",
    "- A Softmax layer of size 10, since there are 10 different classes and one-hot encoding has produced a vector of length 10\n",
    "\n",
    "**Important: Note that the first layer has to either define the `input_size`, which is 784 in this case, or the layer size should match the input vector number of features. Further last layer should match the label size**\n",
    "\n",
    "We will use a learning rate of `0.001` (default is `0.0001`) and a learning rate decay of `0.99` (default is `1`)"
   ]
  },
  {
   "cell_type": "code",
   "execution_count": 35,
   "id": "c9268c1b-a966-43e1-96c5-46bec3fa1ca9",
   "metadata": {},
   "outputs": [],
   "source": [
    "model = nn.Model([\n",
    "    nn.Fully_Connected(32, 'relu', input_size=784),\n",
    "    nn.Fully_Connected(64, 'relu'),\n",
    "    nn.Fully_Connected(64, 'relu'),\n",
    "    nn.Softmax(10)\n",
    "], learning_rate=0.01, lr_decay=0.99)"
   ]
  },
  {
   "cell_type": "markdown",
   "id": "1d9bea2e-e952-4ff9-abc6-7327eba1c7b2",
   "metadata": {},
   "source": [
    "## Model Training\n",
    "\n",
    "To train the model, we can use `mode.train()` as below. `cv` is for the cross-validation set which is optional. It should be tuple or list type, as input and labels. Here, the first half of the test set we put aside earlier is used for `cv`. The weights are updated using stochastic gradient descent. You can define the mini-batch size with `batch_size` argument in `train()` method. Default value is 32."
   ]
  },
  {
   "cell_type": "code",
   "execution_count": 36,
   "id": "ad7de7d8-0130-4452-8664-8b48f9aab178",
   "metadata": {},
   "outputs": [
    {
     "name": "stdout",
     "output_type": "stream",
     "text": [
      "epoch: 1 ================================================== 100.00 / 100 \tloss: 2.3733 \taccuracy: 0.2658 \n",
      "epoch: 2 ================================================== 100.00 / 100 \tloss: 2.0182 \taccuracy: 0.2947 \n",
      "epoch: 3 ================================================== 100.00 / 100 \tloss: 1.9433 \taccuracy: 0.3094 \n",
      "epoch: 4 ================================================== 100.00 / 100 \tloss: 1.8501 \taccuracy: 0.3425 \n",
      "epoch: 5 ================================================== 100.00 / 100 \tloss: 1.7889 \taccuracy: 0.3661 \n",
      "epoch: 6 ================================================== 100.00 / 100 \tloss: 1.9835 \taccuracy: 0.3988 \n",
      "epoch: 7 ================================================== 100.00 / 100 \tloss: 1.9099 \taccuracy: 0.4197 \n",
      "epoch: 8 ================================================== 100.00 / 100 \tloss: 2.1956 \taccuracy: 0.4366 \n",
      "epoch: 9 ================================================== 100.00 / 100 \tloss: 2.2162 \taccuracy: 0.4470 \n",
      "epoch: 10 ================================================== 100.00 / 100 \tloss: 1.8502 \taccuracy: 0.4594 \n",
      "epoch: 11 ================================================== 100.00 / 100 \tloss: 1.7374 \taccuracy: 0.4731 \n",
      "epoch: 12 ================================================== 100.00 / 100 \tloss: 1.5760 \taccuracy: 0.4881 \n",
      "epoch: 13 ================================================== 100.00 / 100 \tloss: 1.9106 \taccuracy: 0.5067 \n",
      "epoch: 14 ================================================== 100.00 / 100 \tloss: 1.4665 \taccuracy: 0.5226 \n",
      "epoch: 15 ================================================== 100.00 / 100 \tloss: 1.5341 \taccuracy: 0.5357 \n",
      "epoch: 16 ================================================== 100.00 / 100 \tloss: 1.4758 \taccuracy: 0.5401 \n",
      "epoch: 17 ================================================== 100.00 / 100 \tloss: 1.2734 \taccuracy: 0.5498 \n",
      "epoch: 18 ================================================== 100.00 / 100 \tloss: 1.1548 \taccuracy: 0.5599 \n",
      "epoch: 19 ================================================== 100.00 / 100 \tloss: 1.1081 \taccuracy: 0.6030 \n",
      "epoch: 20 ================================================== 100.00 / 100 \tloss: 1.3810 \taccuracy: 0.5720 \n",
      "epoch: 21 ================================================== 100.00 / 100 \tloss: 1.2419 \taccuracy: 0.5743 \n",
      "epoch: 22 ================================================== 100.00 / 100 \tloss: 1.0128 \taccuracy: 0.6510 \n",
      "epoch: 23 ================================================== 100.00 / 100 \tloss: 1.0078 \taccuracy: 0.6550 \n",
      "epoch: 24 ================================================== 100.00 / 100 \tloss: 1.3180 \taccuracy: 0.5853 \n",
      "epoch: 25 ================================================== 100.00 / 100 \tloss: 1.0295 \taccuracy: 0.6358 \n",
      "epoch: 26 ================================================== 100.00 / 100 \tloss: 1.0844 \taccuracy: 0.5913 \n",
      "epoch: 27 ================================================== 100.00 / 100 \tloss: 1.0243 \taccuracy: 0.6299 \n",
      "epoch: 28 ================================================== 100.00 / 100 \tloss: 0.9580 \taccuracy: 0.6724 \n",
      "epoch: 29 ================================================== 100.00 / 100 \tloss: 1.0870 \taccuracy: 0.5988 \n",
      "epoch: 30 ================================================== 100.00 / 100 \tloss: 0.9944 \taccuracy: 0.6415 \n",
      "epoch: 31 ================================================== 100.00 / 100 \tloss: 0.9772 \taccuracy: 0.6696 \n",
      "epoch: 32 ================================================== 100.00 / 100 \tloss: 0.9499 \taccuracy: 0.6768 \n",
      "epoch: 33 ================================================== 100.00 / 100 \tloss: 0.9697 \taccuracy: 0.6622 \n",
      "epoch: 34 ================================================== 100.00 / 100 \tloss: 0.9364 \taccuracy: 0.6805 \n",
      "epoch: 35 ================================================== 100.00 / 100 \tloss: 0.9366 \taccuracy: 0.6679 \n",
      "epoch: 36 ================================================== 100.00 / 100 \tloss: 0.9277 \taccuracy: 0.6731 \n",
      "epoch: 37 ================================================== 100.00 / 100 \tloss: 0.9459 \taccuracy: 0.6702 \n",
      "epoch: 38 ================================================== 100.00 / 100 \tloss: 0.9330 \taccuracy: 0.6677 \n",
      "epoch: 39 ================================================== 100.00 / 100 \tloss: 0.9469 \taccuracy: 0.6626 \n",
      "epoch: 40 ================================================== 100.00 / 100 \tloss: 0.9384 \taccuracy: 0.6559 \n",
      "epoch: 41 ================================================== 100.00 / 100 \tloss: 0.8894 \taccuracy: 0.6929 \n",
      "epoch: 42 ================================================== 100.00 / 100 \tloss: 0.8881 \taccuracy: 0.6951 \n",
      "epoch: 43 ================================================== 100.00 / 100 \tloss: 0.9376 \taccuracy: 0.6546 \n",
      "epoch: 44 ================================================== 100.00 / 100 \tloss: 0.8689 \taccuracy: 0.7013 \n",
      "epoch: 45 ================================================== 100.00 / 100 \tloss: 0.9271 \taccuracy: 0.7012 \n",
      "epoch: 46 ================================================== 100.00 / 100 \tloss: 0.8842 \taccuracy: 0.6991 \n",
      "epoch: 47 ================================================== 100.00 / 100 \tloss: 0.8906 \taccuracy: 0.7012 \n",
      "epoch: 48 ================================================== 100.00 / 100 \tloss: 0.8406 \taccuracy: 0.7073 \n",
      "epoch: 49 ================================================== 100.00 / 100 \tloss: 0.8362 \taccuracy: 0.7120 \n",
      "epoch: 50 ================================================== 100.00 / 100 \tloss: 0.8413 \taccuracy: 0.7105 \n",
      "epoch: 51 ================================================== 100.00 / 100 \tloss: 0.8331 \taccuracy: 0.7131 \n",
      "epoch: 52 ================================================== 100.00 / 100 \tloss: 0.8038 \taccuracy: 0.7154 \n",
      "epoch: 53 ================================================== 100.00 / 100 \tloss: 0.8388 \taccuracy: 0.7124 \n",
      "epoch: 54 ================================================== 100.00 / 100 \tloss: 0.7926 \taccuracy: 0.7226 \n",
      "epoch: 55 ================================================== 100.00 / 100 \tloss: 0.7861 \taccuracy: 0.7244 \n",
      "epoch: 56 ================================================== 100.00 / 100 \tloss: 0.7806 \taccuracy: 0.7268 \n",
      "epoch: 57 ================================================== 100.00 / 100 \tloss: 0.7713 \taccuracy: 0.7328 \n",
      "epoch: 58 ================================================== 100.00 / 100 \tloss: 0.7676 \taccuracy: 0.7345 \n",
      "epoch: 59 ================================================== 100.00 / 100 \tloss: 0.7624 \taccuracy: 0.7368 \n",
      "epoch: 60 ================================================== 100.00 / 100 \tloss: 0.7604 \taccuracy: 0.7378 \n",
      "epoch: 61 ================================================== 100.00 / 100 \tloss: 0.7529 \taccuracy: 0.7407 \n",
      "epoch: 62 ================================================== 100.00 / 100 \tloss: 0.7435 \taccuracy: 0.7443 \n",
      "epoch: 63 ================================================== 100.00 / 100 \tloss: 0.7369 \taccuracy: 0.7488 \n",
      "epoch: 64 ================================================== 100.00 / 100 \tloss: 0.7303 \taccuracy: 0.7530 \n",
      "epoch: 65 ================================================== 100.00 / 100 \tloss: 0.7242 \taccuracy: 0.7554 \n",
      "epoch: 66 ================================================== 100.00 / 100 \tloss: 0.7173 \taccuracy: 0.7573 \n",
      "epoch: 67 ================================================== 100.00 / 100 \tloss: 0.7109 \taccuracy: 0.7600 \n",
      "epoch: 68 ================================================== 100.00 / 100 \tloss: 0.7042 \taccuracy: 0.7630 \n",
      "epoch: 69 ================================================== 100.00 / 100 \tloss: 0.6992 \taccuracy: 0.7660 \n",
      "epoch: 70 ================================================== 100.00 / 100 \tloss: 0.6958 \taccuracy: 0.7677 \n",
      "epoch: 71 ================================================== 100.00 / 100 \tloss: 0.6932 \taccuracy: 0.7692 \n",
      "epoch: 72 ================================================== 100.00 / 100 \tloss: 0.6900 \taccuracy: 0.7715 \n",
      "epoch: 73 ================================================== 100.00 / 100 \tloss: 0.6836 \taccuracy: 0.7722 \n",
      "epoch: 74 ================================================== 100.00 / 100 \tloss: 0.6792 \taccuracy: 0.7734 \n",
      "epoch: 75 ================================================== 100.00 / 100 \tloss: 0.6787 \taccuracy: 0.7736 \n",
      "epoch: 76 ================================================== 100.00 / 100 \tloss: 0.6786 \taccuracy: 0.7750 \n",
      "epoch: 77 ================================================== 100.00 / 100 \tloss: 0.6745 \taccuracy: 0.7756 \n",
      "epoch: 78 ================================================== 100.00 / 100 \tloss: 0.6739 \taccuracy: 0.7760 \n",
      "epoch: 79 ================================================== 100.00 / 100 \tloss: 0.6740 \taccuracy: 0.7761 \n",
      "epoch: 80 ================================================== 100.00 / 100 \tloss: 0.6727 \taccuracy: 0.7760 \n",
      "epoch: 81 ================================================== 100.00 / 100 \tloss: 0.6693 \taccuracy: 0.7766 \n",
      "epoch: 82 ================================================== 100.00 / 100 \tloss: 0.6647 \taccuracy: 0.7773 \n",
      "epoch: 83 ================================================== 100.00 / 100 \tloss: 0.6656 \taccuracy: 0.7769 \n",
      "epoch: 84 ================================================== 100.00 / 100 \tloss: 0.6624 \taccuracy: 0.7780 \n",
      "epoch: 85 ================================================== 100.00 / 100 \tloss: 0.6612 \taccuracy: 0.7785 \n",
      "epoch: 86 ================================================== 100.00 / 100 \tloss: 0.6589 \taccuracy: 0.7791 \n",
      "epoch: 87 ================================================== 100.00 / 100 \tloss: 0.6580 \taccuracy: 0.7793 \n",
      "epoch: 88 ================================================== 100.00 / 100 \tloss: 0.6545 \taccuracy: 0.7802 \n",
      "epoch: 89 ================================================== 100.00 / 100 \tloss: 0.6521 \taccuracy: 0.7804 \n",
      "epoch: 90 ================================================== 100.00 / 100 \tloss: 0.6510 \taccuracy: 0.7810 \n",
      "epoch: 91 ================================================== 100.00 / 100 \tloss: 0.6491 \taccuracy: 0.7809 \n",
      "epoch: 92 ================================================== 100.00 / 100 \tloss: 0.6460 \taccuracy: 0.7819 \n",
      "epoch: 93 ================================================== 100.00 / 100 \tloss: 0.6457 \taccuracy: 0.7825 \n",
      "epoch: 94 ================================================== 100.00 / 100 \tloss: 0.6447 \taccuracy: 0.7820 \n",
      "epoch: 95 ================================================== 100.00 / 100 \tloss: 0.6483 \taccuracy: 0.7823 \n",
      "epoch: 96 ================================================== 100.00 / 100 \tloss: 0.6438 \taccuracy: 0.7829 \n",
      "epoch: 97 ================================================== 100.00 / 100 \tloss: 0.6453 \taccuracy: 0.7832 \n",
      "epoch: 98 ================================================== 100.00 / 100 \tloss: 0.6450 \taccuracy: 0.7829 \n",
      "epoch: 99 ================================================== 100.00 / 100 \tloss: 0.6443 \taccuracy: 0.7828 \n",
      "epoch: 100 ================================================== 100.00 / 100 \tloss: 0.6437 \taccuracy: 0.7825 \n"
     ]
    },
    {
     "data": {
      "image/png": "[encoded data removed]",
      "text/plain": [
       "<Figure size 640x480 with 2 Axes>"
      ]
     },
     "metadata": {},
     "output_type": "display_data"
    }
   ],
   "source": [
    "model.train(X_train,y_train, epochs=100, cv = (X_test[:,:5000], y_test[:,:5000]))"
   ]
  },
  {
   "cell_type": "markdown",
   "id": "b9b85fe7-421a-46e8-9810-edc2c93c7f0e",
   "metadata": {},
   "source": [
    "The default loss in using Fully Connected layers is `mean_squared_error`. If the last layer is a Sofmax, the loss defaults to `categorical_cross_entropy`.\n",
    "At the end of the training, a graph is plot with loss (and accuracy if Softmax is used) in each epoch. You can also access the values using `model.metrics_list` attribute."
   ]
  },
  {
   "cell_type": "markdown",
   "id": "b200a571-5340-41cf-b353-684394a8bdef",
   "metadata": {},
   "source": [
    "## Generalization Error\n",
    "We can estimate the generalization error using the unseen data, i.e. test set that was not used in training.\n",
    "First we predict using the test input and then compare with the labels to get the accuracy"
   ]
  },
  {
   "cell_type": "markdown",
   "id": "3add83d8-18e3-4c45-b1ff-327ec50a2ea3",
   "metadata": {},
   "source": [
    "pred = model.predict(X_test[:,5000:])\n",
    "pred[:,:4]"
   ]
  },
  {
   "cell_type": "markdown",
   "id": "ef2d3b3f-9d04-4bbe-ba01-524d6ffbb2ef",
   "metadata": {},
   "source": [
    "Note that the predictions are Softmax probabilities for each category. We can convert them to the same as one-hot encoded pattern with the maximum value indices, convert back to labels using the `.inverse_transform()` method of OneHotEncoder and then compare values to get the accuracy. But, using the following code, we can get the test accuracy quicker."
   ]
  },
  {
   "cell_type": "code",
   "execution_count": 46,
   "id": "53fd033f-a65a-4d2c-bfb2-9681544b8708",
   "metadata": {},
   "outputs": [
    {
     "data": {
      "text/plain": [
       "0.8046"
      ]
     },
     "execution_count": 46,
     "metadata": {},
     "output_type": "execute_result"
    }
   ],
   "source": [
    "test_accuracy = (np.argmax(pred, axis=0) == np.argmax(y_test[:,5000:], axis=0)).mean()\n",
    "test_accuracy"
   ]
  },
  {
   "cell_type": "markdown",
   "id": "2ab5b7c5-1ebd-44ed-8342-e914fad292f0",
   "metadata": {},
   "source": [
    "That is a little over 80% accuracy with the given model and 100 epochs. We can further improve this by tuning hyperparameters: number of layers, layer size, learning rate, mini-batch size etc."
   ]
  },
  {
   "cell_type": "markdown",
   "id": "93387fbf-a0c7-42ee-b753-856092172499",
   "metadata": {},
   "source": [
    "## End Note\n",
    "Feel free to try out other examples with this neural network package. Your suggestions are welcome."
   ]
  },
  {
   "cell_type": "code",
   "execution_count": null,
   "id": "c08c8612-b3eb-4a21-824a-c28c11322264",
   "metadata": {},
   "outputs": [],
   "source": []
  }
 ],
 "metadata": {
  "kernelspec": {
   "display_name": "Python 3 (ipykernel)",
   "language": "python",
   "name": "python3"
  },
  "language_info": {
   "codemirror_mode": {
    "name": "ipython",
    "version": 3
   },
   "file_extension": ".py",
   "mimetype": "text/x-python",
   "name": "python",
   "nbconvert_exporter": "python",
   "pygments_lexer": "ipython3",
   "version": "3.11.2"
  }
 },
 "nbformat": 4,
 "nbformat_minor": 5
}
