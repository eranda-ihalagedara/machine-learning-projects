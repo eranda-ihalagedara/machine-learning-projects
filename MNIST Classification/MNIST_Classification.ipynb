{
 "cells": [
  {
   "cell_type": "markdown",
   "id": "dc11a280-b319-4f30-9048-1271504c470a",
   "metadata": {},
   "source": [
    "## MNIST Dataset"
   ]
  },
  {
   "cell_type": "code",
   "execution_count": 2,
   "id": "4aa2d65a-06e6-4df6-8bd6-4bacbb1d03a0",
   "metadata": {},
   "outputs": [],
   "source": [
    "# Importing libraries\n",
    "import numpy as np\n",
    "import pandas as pd\n",
    "from matplotlib import pyplot as plt\n",
    "from sklearn.datasets import fetch_openml\n",
    "import pickle\n",
    "import time\n",
    "from sklearn.model_selection import cross_val_predict, cross_val_score"
   ]
  },
  {
   "cell_type": "markdown",
   "id": "78578c63-038e-436a-921f-89a61c1e9c59",
   "metadata": {
    "tags": []
   },
   "source": [
    "---\n",
    "### Download the MNIST dataset from openml"
   ]
  },
  {
   "cell_type": "code",
   "execution_count": 3,
   "id": "4dba9cec-40dc-48a7-b9c4-c119e617b62f",
   "metadata": {
    "tags": []
   },
   "outputs": [],
   "source": [
    "mnist = fetch_openml('mnist_784', as_frame=False, parser='auto')\n",
    "# as_frame = False make the the data and target to be NumPy arrays"
   ]
  },
  {
   "cell_type": "code",
   "execution_count": 4,
   "id": "62aed829-1575-4107-9ae3-39af1751aaa7",
   "metadata": {
    "tags": []
   },
   "outputs": [],
   "source": [
    "# Extract the data and the labels(targets)\n",
    "X = mnist.data\n",
    "y = mnist.target"
   ]
  },
  {
   "cell_type": "markdown",
   "id": "7b8e3693-6aa1-4963-8eab-2fb0a7ce7f7e",
   "metadata": {
    "tags": []
   },
   "source": [
    "---\n",
    "### Explore Data"
   ]
  },
  {
   "cell_type": "code",
   "execution_count": 63,
   "id": "fc0e59ec-330b-4652-a5fa-bd245352d525",
   "metadata": {
    "tags": []
   },
   "outputs": [
    {
     "data": {
      "text/plain": [
       "(numpy.ndarray, (70000, 784))"
      ]
     },
     "execution_count": 63,
     "metadata": {},
     "output_type": "execute_result"
    }
   ],
   "source": [
    "type(X), X.shape"
   ]
  },
  {
   "cell_type": "code",
   "execution_count": 64,
   "id": "6dc48d88-64e4-4df6-870e-4d32692338e4",
   "metadata": {
    "tags": []
   },
   "outputs": [
    {
     "data": {
      "text/plain": [
       "(numpy.ndarray, (70000,))"
      ]
     },
     "execution_count": 64,
     "metadata": {},
     "output_type": "execute_result"
    }
   ],
   "source": [
    "type(y), y.shape"
   ]
  },
  {
   "cell_type": "code",
   "execution_count": 65,
   "id": "7f8a50e4-2f09-4df3-883b-ccf4acf2364b",
   "metadata": {
    "tags": []
   },
   "outputs": [
    {
     "data": {
      "text/plain": [
       "array([[0, 0, 0, ..., 0, 0, 0],\n",
       "       [0, 0, 0, ..., 0, 0, 0],\n",
       "       [0, 0, 0, ..., 0, 0, 0],\n",
       "       ...,\n",
       "       [0, 0, 0, ..., 0, 0, 0],\n",
       "       [0, 0, 0, ..., 0, 0, 0],\n",
       "       [0, 0, 0, ..., 0, 0, 0]], dtype=int64)"
      ]
     },
     "execution_count": 65,
     "metadata": {},
     "output_type": "execute_result"
    }
   ],
   "source": [
    "X"
   ]
  },
  {
   "cell_type": "code",
   "execution_count": 5,
   "id": "d94907fc-b073-460a-91ad-fed1bc6480e3",
   "metadata": {
    "tags": []
   },
   "outputs": [],
   "source": [
    "# Image data are in a numpy array of 28x28 = 784. To plot the images, need to reshape them into 28x28\n",
    "\n",
    "def plot_image(digit):\n",
    "    plt.figure(figsize=(2,2))\n",
    "    plt.imshow(digit.reshape((28,28)), cmap='gray')\n",
    "    plt.axis('off')"
   ]
  },
  {
   "cell_type": "code",
   "execution_count": 67,
   "id": "a8df0ccf-68c6-4c19-9d94-03c130245c43",
   "metadata": {
    "tags": []
   },
   "outputs": [
    {
     "data": {
      "image/png": "[encoded data removed]",
      "text/plain": [
       "<Figure size 200x200 with 1 Axes>"
      ]
     },
     "metadata": {},
     "output_type": "display_data"
    }
   ],
   "source": [
    "plot_image(X[0])"
   ]
  },
  {
   "cell_type": "code",
   "execution_count": 43,
   "id": "00687369-7e8c-4e9a-9493-49cc26cffaa7",
   "metadata": {
    "tags": []
   },
   "outputs": [
    {
     "data": {
      "text/plain": [
       "'5'"
      ]
     },
     "execution_count": 43,
     "metadata": {},
     "output_type": "execute_result"
    }
   ],
   "source": [
    "y[0]"
   ]
  },
  {
   "cell_type": "markdown",
   "id": "575d70e0-d7f0-43c2-867c-9a135b47a4fc",
   "metadata": {
    "tags": []
   },
   "source": [
    "---\n",
    "### Train-Test split\n",
    "\n",
    "This is already split into training and test sets. First 60000 images are the training images and the next 10000 are the test set"
   ]
  },
  {
   "cell_type": "code",
   "execution_count": 6,
   "id": "517e6358-825f-444b-9b89-985e9a64cacf",
   "metadata": {
    "tags": []
   },
   "outputs": [],
   "source": [
    "X_train, X_test = X[:60000], X[60000:]\n",
    "y_train, y_test = y[:60000], y[60000:]"
   ]
  },
  {
   "cell_type": "code",
   "execution_count": 7,
   "id": "5b614118-5324-4ac2-b7e2-d29956df48ff",
   "metadata": {
    "tags": []
   },
   "outputs": [],
   "source": [
    "# Store mean cross validation accuracy\n",
    "mean_cv_accuracy = []"
   ]
  },
  {
   "cell_type": "markdown",
   "id": "ca8d055f-bb49-419f-ab0c-856b5b930807",
   "metadata": {},
   "source": [
    "---\n",
    "### Linear Classifiers"
   ]
  },
  {
   "cell_type": "markdown",
   "id": "44e85847-aa3f-4eb5-b1d0-9855a7c60c2c",
   "metadata": {
    "tags": []
   },
   "source": [
    "#### Logistic Regression"
   ]
  },
  {
   "cell_type": "code",
   "execution_count": 8,
   "id": "71abb048-2686-44b1-af8d-a2890c0baded",
   "metadata": {
    "tags": []
   },
   "outputs": [],
   "source": [
    "from sklearn.linear_model import LogisticRegression"
   ]
  },
  {
   "cell_type": "code",
   "execution_count": 9,
   "id": "74b17a95-dd0f-4922-87e9-6751f02688cb",
   "metadata": {
    "tags": []
   },
   "outputs": [
    {
     "name": "stderr",
     "output_type": "stream",
     "text": [
      "[Parallel(n_jobs=1)]: Using backend SequentialBackend with 1 concurrent workers.\n",
      "C:\\Program Files\\Python\\Python311\\Lib\\site-packages\\sklearn\\linear_model\\_logistic.py:458: ConvergenceWarning: lbfgs failed to converge (status=1):\n",
      "STOP: TOTAL NO. of ITERATIONS REACHED LIMIT.\n",
      "\n",
      "Increase the number of iterations (max_iter) or scale the data as shown in:\n",
      "    https://scikit-learn.org/stable/modules/preprocessing.html\n",
      "Please also refer to the documentation for alternative solver options:\n",
      "    https://scikit-learn.org/stable/modules/linear_model.html#logistic-regression\n",
      "  n_iter_i = _check_optimize_result(\n",
      "[Parallel(n_jobs=1)]: Done   1 out of   1 | elapsed:   18.7s remaining:    0.0s\n"
     ]
    },
    {
     "name": "stdout",
     "output_type": "stream",
     "text": [
      "[CV] END .................................................... total time=  18.5s\n"
     ]
    },
    {
     "name": "stderr",
     "output_type": "stream",
     "text": [
      "C:\\Program Files\\Python\\Python311\\Lib\\site-packages\\sklearn\\linear_model\\_logistic.py:458: ConvergenceWarning: lbfgs failed to converge (status=1):\n",
      "STOP: TOTAL NO. of ITERATIONS REACHED LIMIT.\n",
      "\n",
      "Increase the number of iterations (max_iter) or scale the data as shown in:\n",
      "    https://scikit-learn.org/stable/modules/preprocessing.html\n",
      "Please also refer to the documentation for alternative solver options:\n",
      "    https://scikit-learn.org/stable/modules/linear_model.html#logistic-regression\n",
      "  n_iter_i = _check_optimize_result(\n"
     ]
    },
    {
     "name": "stdout",
     "output_type": "stream",
     "text": [
      "[CV] END .................................................... total time=  19.6s\n",
      "[CV] END .................................................... total time=  20.1s\n"
     ]
    },
    {
     "name": "stderr",
     "output_type": "stream",
     "text": [
      "C:\\Program Files\\Python\\Python311\\Lib\\site-packages\\sklearn\\linear_model\\_logistic.py:458: ConvergenceWarning: lbfgs failed to converge (status=1):\n",
      "STOP: TOTAL NO. of ITERATIONS REACHED LIMIT.\n",
      "\n",
      "Increase the number of iterations (max_iter) or scale the data as shown in:\n",
      "    https://scikit-learn.org/stable/modules/preprocessing.html\n",
      "Please also refer to the documentation for alternative solver options:\n",
      "    https://scikit-learn.org/stable/modules/linear_model.html#logistic-regression\n",
      "  n_iter_i = _check_optimize_result(\n",
      "[Parallel(n_jobs=1)]: Done   3 out of   3 | elapsed:   58.7s finished\n"
     ]
    }
   ],
   "source": [
    "logit_model = LogisticRegression(random_state=123)\n",
    "st_time = time.time()\n",
    "logit_score= cross_val_score(logit_model, X_train, y_train, cv = 3, scoring='accuracy', verbose=2)\n",
    "time_elapsed = time.time()-st_time"
   ]
  },
  {
   "cell_type": "code",
   "execution_count": 10,
   "id": "22bba6c3-5904-4626-bc67-5d5b4802c2e1",
   "metadata": {
    "tags": []
   },
   "outputs": [
    {
     "data": {
      "text/plain": [
       "array([0.91275, 0.91565, 0.9171 ])"
      ]
     },
     "execution_count": 10,
     "metadata": {},
     "output_type": "execute_result"
    }
   ],
   "source": [
    "logit_score"
   ]
  },
  {
   "cell_type": "code",
   "execution_count": 11,
   "id": "1a298fa5-a0fb-4bb2-8ca1-ac372564292a",
   "metadata": {
    "tags": []
   },
   "outputs": [
    {
     "data": {
      "text/plain": [
       "0.9151666666666666"
      ]
     },
     "execution_count": 11,
     "metadata": {},
     "output_type": "execute_result"
    }
   ],
   "source": [
    "np.mean(logit_score)"
   ]
  },
  {
   "cell_type": "code",
   "execution_count": 12,
   "id": "340560dd-fa36-49a1-a48e-b3df01d19a34",
   "metadata": {
    "tags": []
   },
   "outputs": [],
   "source": [
    "mean_cv_accuracy.append(('logit_score', np.mean(logit_score), time_elapsed))"
   ]
  },
  {
   "cell_type": "markdown",
   "id": "9fd6492e-d90b-4ae5-a08b-166bb4b3c200",
   "metadata": {},
   "source": [
    "**Scaling data to see if it would impore the performance**"
   ]
  },
  {
   "cell_type": "code",
   "execution_count": 13,
   "id": "fbbb77b6-1bc9-420a-ada5-4350a940619d",
   "metadata": {
    "tags": []
   },
   "outputs": [],
   "source": [
    "from sklearn.preprocessing import StandardScaler"
   ]
  },
  {
   "cell_type": "code",
   "execution_count": 14,
   "id": "1ae2f151-fb40-4343-ad98-f515907aa585",
   "metadata": {
    "tags": []
   },
   "outputs": [],
   "source": [
    "scaler = StandardScaler()\n",
    "X_train_scaled = scaler.fit_transform(X_train.astype('float64'))"
   ]
  },
  {
   "cell_type": "code",
   "execution_count": 20,
   "id": "208ed350-c807-4266-b7a1-040d32785b29",
   "metadata": {
    "tags": []
   },
   "outputs": [
    {
     "data": {
      "image/png": "[encoded data removed]",
      "text/plain": [
       "<Figure size 200x200 with 1 Axes>"
      ]
     },
     "metadata": {},
     "output_type": "display_data"
    }
   ],
   "source": [
    "plot_image(X_train_scaled[0])"
   ]
  },
  {
   "cell_type": "code",
   "execution_count": 22,
   "id": "e6f5f2b6-1932-4e4f-ac08-774e85b865f3",
   "metadata": {
    "tags": []
   },
   "outputs": [
    {
     "data": {
      "image/png": "[encoded data removed]",
      "text/plain": [
       "<Figure size 200x200 with 1 Axes>"
      ]
     },
     "metadata": {},
     "output_type": "display_data"
    }
   ],
   "source": [
    "plot_image(X_train_scaled[2])"
   ]
  },
  {
   "cell_type": "markdown",
   "id": "04fefa03-bc72-4ffd-a84b-afe675902ffd",
   "metadata": {},
   "source": [
    "**Standard scaling would highlight parts that are out of the common area**"
   ]
  },
  {
   "cell_type": "code",
   "execution_count": 15,
   "id": "75a59a6f-aafb-4994-bb89-1a0b75c941d3",
   "metadata": {
    "tags": []
   },
   "outputs": [
    {
     "name": "stderr",
     "output_type": "stream",
     "text": [
      "[Parallel(n_jobs=1)]: Using backend SequentialBackend with 1 concurrent workers.\n",
      "C:\\Program Files\\Python\\Python311\\Lib\\site-packages\\sklearn\\linear_model\\_logistic.py:458: ConvergenceWarning: lbfgs failed to converge (status=1):\n",
      "STOP: TOTAL NO. of ITERATIONS REACHED LIMIT.\n",
      "\n",
      "Increase the number of iterations (max_iter) or scale the data as shown in:\n",
      "    https://scikit-learn.org/stable/modules/preprocessing.html\n",
      "Please also refer to the documentation for alternative solver options:\n",
      "    https://scikit-learn.org/stable/modules/linear_model.html#logistic-regression\n",
      "  n_iter_i = _check_optimize_result(\n",
      "[Parallel(n_jobs=1)]: Done   1 out of   1 | elapsed:   20.0s remaining:    0.0s\n"
     ]
    },
    {
     "name": "stdout",
     "output_type": "stream",
     "text": [
      "[CV] END .................................................... total time=  19.9s\n"
     ]
    },
    {
     "name": "stderr",
     "output_type": "stream",
     "text": [
      "C:\\Program Files\\Python\\Python311\\Lib\\site-packages\\sklearn\\linear_model\\_logistic.py:458: ConvergenceWarning: lbfgs failed to converge (status=1):\n",
      "STOP: TOTAL NO. of ITERATIONS REACHED LIMIT.\n",
      "\n",
      "Increase the number of iterations (max_iter) or scale the data as shown in:\n",
      "    https://scikit-learn.org/stable/modules/preprocessing.html\n",
      "Please also refer to the documentation for alternative solver options:\n",
      "    https://scikit-learn.org/stable/modules/linear_model.html#logistic-regression\n",
      "  n_iter_i = _check_optimize_result(\n"
     ]
    },
    {
     "name": "stdout",
     "output_type": "stream",
     "text": [
      "[CV] END .................................................... total time=  18.9s\n",
      "[CV] END .................................................... total time=  20.2s\n"
     ]
    },
    {
     "name": "stderr",
     "output_type": "stream",
     "text": [
      "C:\\Program Files\\Python\\Python311\\Lib\\site-packages\\sklearn\\linear_model\\_logistic.py:458: ConvergenceWarning: lbfgs failed to converge (status=1):\n",
      "STOP: TOTAL NO. of ITERATIONS REACHED LIMIT.\n",
      "\n",
      "Increase the number of iterations (max_iter) or scale the data as shown in:\n",
      "    https://scikit-learn.org/stable/modules/preprocessing.html\n",
      "Please also refer to the documentation for alternative solver options:\n",
      "    https://scikit-learn.org/stable/modules/linear_model.html#logistic-regression\n",
      "  n_iter_i = _check_optimize_result(\n",
      "[Parallel(n_jobs=1)]: Done   3 out of   3 | elapsed:   59.3s finished\n"
     ]
    }
   ],
   "source": [
    "logit_model = LogisticRegression(random_state=123)\n",
    "st_time = time.time()\n",
    "logit_score_scaled = cross_val_score(logit_model, X_train_scaled, y_train, cv = 3, scoring='accuracy', verbose=2)\n",
    "elapsed_time = time.time()-st_time"
   ]
  },
  {
   "cell_type": "code",
   "execution_count": 16,
   "id": "29dcc9c0-cc54-463b-90bd-bc3dd44bec08",
   "metadata": {
    "tags": []
   },
   "outputs": [
    {
     "data": {
      "text/plain": [
       "array([0.90595, 0.9081 , 0.91005])"
      ]
     },
     "execution_count": 16,
     "metadata": {},
     "output_type": "execute_result"
    }
   ],
   "source": [
    "logit_score_scaled"
   ]
  },
  {
   "cell_type": "code",
   "execution_count": 17,
   "id": "e2b11554-ce3d-40e6-bf8f-e924d01a55e6",
   "metadata": {
    "tags": []
   },
   "outputs": [],
   "source": [
    "mean_cv_accuracy.append(('logit_score_scaled', np.mean(logit_score_scaled), elapsed_time))"
   ]
  },
  {
   "cell_type": "markdown",
   "id": "e8a1b7ca-1bd9-444e-9b22-a29bfad9e133",
   "metadata": {},
   "source": [
    "**Not much of a improvement with standard scaling**"
   ]
  },
  {
   "cell_type": "markdown",
   "id": "5aab47e6-f3aa-4049-b2e6-02ad2b75835b",
   "metadata": {},
   "source": [
    "#### SGD Classifier"
   ]
  },
  {
   "cell_type": "code",
   "execution_count": 18,
   "id": "ada75878-391f-4f56-86dc-4440e4b1c059",
   "metadata": {
    "tags": []
   },
   "outputs": [],
   "source": [
    "from sklearn.linear_model import SGDClassifier"
   ]
  },
  {
   "cell_type": "code",
   "execution_count": 19,
   "id": "e89b055a-92c6-428f-8941-abd845c56a8b",
   "metadata": {
    "tags": []
   },
   "outputs": [
    {
     "name": "stderr",
     "output_type": "stream",
     "text": [
      "[Parallel(n_jobs=1)]: Using backend SequentialBackend with 1 concurrent workers.\n"
     ]
    },
    {
     "name": "stdout",
     "output_type": "stream",
     "text": [
      "[CV] END .................................................... total time= 1.8min\n"
     ]
    },
    {
     "name": "stderr",
     "output_type": "stream",
     "text": [
      "[Parallel(n_jobs=1)]: Done   1 out of   1 | elapsed:  1.8min remaining:    0.0s\n"
     ]
    },
    {
     "name": "stdout",
     "output_type": "stream",
     "text": [
      "[CV] END .................................................... total time= 1.6min\n",
      "[CV] END .................................................... total time= 1.7min\n"
     ]
    },
    {
     "name": "stderr",
     "output_type": "stream",
     "text": [
      "[Parallel(n_jobs=1)]: Done   3 out of   3 | elapsed:  5.0min finished\n"
     ]
    }
   ],
   "source": [
    "sgd_model = SGDClassifier(random_state=123)\n",
    "st_time = time.time()\n",
    "sgd_score = cross_val_score(sgd_model, X_train, y_train, cv=3, scoring='accuracy', verbose=2)\n",
    "elapsed_time = time.time()-st_time"
   ]
  },
  {
   "cell_type": "code",
   "execution_count": 20,
   "id": "cd709e54-57d4-4fc8-b242-5ac3d44cbd03",
   "metadata": {
    "tags": []
   },
   "outputs": [
    {
     "data": {
      "text/plain": [
       "array([0.8738, 0.8682, 0.8855])"
      ]
     },
     "execution_count": 20,
     "metadata": {},
     "output_type": "execute_result"
    }
   ],
   "source": [
    "sgd_score"
   ]
  },
  {
   "cell_type": "code",
   "execution_count": 21,
   "id": "6abb89fd-d8bc-4b41-8d6d-b670e541a6e1",
   "metadata": {
    "tags": []
   },
   "outputs": [
    {
     "data": {
      "text/plain": [
       "0.8758333333333334"
      ]
     },
     "execution_count": 21,
     "metadata": {},
     "output_type": "execute_result"
    }
   ],
   "source": [
    "np.mean(sgd_score)"
   ]
  },
  {
   "cell_type": "code",
   "execution_count": 22,
   "id": "efd06f4f-e342-4d11-a667-66be8be43d52",
   "metadata": {
    "tags": []
   },
   "outputs": [],
   "source": [
    "mean_cv_accuracy.append(('sgd_score', np.mean(sgd_score), elapsed_time))"
   ]
  },
  {
   "cell_type": "code",
   "execution_count": 23,
   "id": "5f679ce8-3580-4e06-8294-0d0c03b679a6",
   "metadata": {
    "tags": []
   },
   "outputs": [
    {
     "name": "stderr",
     "output_type": "stream",
     "text": [
      "[Parallel(n_jobs=1)]: Using backend SequentialBackend with 1 concurrent workers.\n"
     ]
    },
    {
     "name": "stdout",
     "output_type": "stream",
     "text": [
      "[CV] END .................................................... total time= 4.3min\n"
     ]
    },
    {
     "name": "stderr",
     "output_type": "stream",
     "text": [
      "[Parallel(n_jobs=1)]: Done   1 out of   1 | elapsed:  4.3min remaining:    0.0s\n"
     ]
    },
    {
     "name": "stdout",
     "output_type": "stream",
     "text": [
      "[CV] END .................................................... total time= 4.6min\n",
      "[CV] END .................................................... total time= 4.6min\n"
     ]
    },
    {
     "name": "stderr",
     "output_type": "stream",
     "text": [
      "[Parallel(n_jobs=1)]: Done   3 out of   3 | elapsed: 13.4min finished\n"
     ]
    }
   ],
   "source": [
    "sgd_model = SGDClassifier(random_state=123)\n",
    "st_time = time.time()\n",
    "sgd_score_scaled = cross_val_score(sgd_model, X_train_scaled, y_train, cv=3, scoring='accuracy', verbose=2)\n",
    "elapsed_time = time.time()-st_time"
   ]
  },
  {
   "cell_type": "code",
   "execution_count": 24,
   "id": "2ba110cc-3192-4cfc-9342-da067397e12a",
   "metadata": {
    "tags": []
   },
   "outputs": [
    {
     "data": {
      "text/plain": [
       "array([0.89215, 0.8929 , 0.9022 ])"
      ]
     },
     "execution_count": 24,
     "metadata": {},
     "output_type": "execute_result"
    }
   ],
   "source": [
    "sgd_score_scaled"
   ]
  },
  {
   "cell_type": "code",
   "execution_count": 25,
   "id": "5d587fd9-d622-4dc0-874a-d68662df2653",
   "metadata": {
    "tags": []
   },
   "outputs": [
    {
     "data": {
      "text/plain": [
       "0.89575"
      ]
     },
     "execution_count": 25,
     "metadata": {},
     "output_type": "execute_result"
    }
   ],
   "source": [
    "np.mean(sgd_score_scaled)"
   ]
  },
  {
   "cell_type": "code",
   "execution_count": 26,
   "id": "7d1ac9ff-3199-4848-b6da-bfdac9c98356",
   "metadata": {
    "tags": []
   },
   "outputs": [],
   "source": [
    "mean_cv_accuracy.append(('sgd_score_scaled', np.mean(sgd_score_scaled), elapsed_time))"
   ]
  },
  {
   "cell_type": "markdown",
   "id": "1f26b75a-4ef6-48ae-b621-37a42e0cb7bb",
   "metadata": {},
   "source": [
    "**For SGD classifier there seems to be small improvment with scaling**"
   ]
  },
  {
   "cell_type": "markdown",
   "id": "ec71abc2-29dd-4bcb-8539-69160aeed606",
   "metadata": {},
   "source": [
    "#### Compare the models using the score\n",
    "\n",
    "Although we can see the mean values are different in the previous two models, we can verify that the difference is significant using a statistical test : independant t-test"
   ]
  },
  {
   "cell_type": "code",
   "execution_count": 88,
   "id": "26136179-33e9-45b9-8edb-634e25939c12",
   "metadata": {
    "tags": []
   },
   "outputs": [],
   "source": [
    "from scipy.stats import ttest_ind"
   ]
  },
  {
   "cell_type": "code",
   "execution_count": 28,
   "id": "15fae9bb-628d-4232-ab72-3adca9769a29",
   "metadata": {
    "tags": []
   },
   "outputs": [],
   "source": [
    "t_stat, p_val = ttest_ind(logit_score, sgd_score_scaled, equal_var=False)"
   ]
  },
  {
   "cell_type": "code",
   "execution_count": 29,
   "id": "dffcc35a-b40a-42a1-9934-aea7ff38d9d6",
   "metadata": {
    "tags": []
   },
   "outputs": [
    {
     "data": {
      "text/plain": [
       "(5.585875874720348, 0.016236703436968945)"
      ]
     },
     "execution_count": 29,
     "metadata": {},
     "output_type": "execute_result"
    }
   ],
   "source": [
    "t_stat, p_val"
   ]
  },
  {
   "cell_type": "markdown",
   "id": "06df6948-7f6c-4c2d-980e-4a8811cd8723",
   "metadata": {},
   "source": [
    "- **The difference is significant (p_val < 0.05). `logit_score` is better than `sgd_score_scaled`**"
   ]
  },
  {
   "cell_type": "markdown",
   "id": "c0c073fd-3fe1-462e-a63e-2323b7252bbf",
   "metadata": {
    "tags": []
   },
   "source": [
    "#### SVM with linear kernel"
   ]
  },
  {
   "cell_type": "code",
   "execution_count": 8,
   "id": "47aca16a-3d57-4f90-a28d-3a6f588dc12c",
   "metadata": {
    "tags": []
   },
   "outputs": [],
   "source": [
    "from sklearn.svm import SVC"
   ]
  },
  {
   "cell_type": "markdown",
   "id": "19dfdc1c-35a9-43e7-bbad-0fff33798b27",
   "metadata": {},
   "source": [
    "**Training time of SVM scales exponentially with the size of data set. It is better to check the performance on a part of data, typically few thousands**"
   ]
  },
  {
   "cell_type": "code",
   "execution_count": 37,
   "id": "42462730-432b-42ff-8de2-78cf909383f1",
   "metadata": {
    "tags": []
   },
   "outputs": [
    {
     "name": "stderr",
     "output_type": "stream",
     "text": [
      "[Parallel(n_jobs=1)]: Using backend SequentialBackend with 1 concurrent workers.\n"
     ]
    },
    {
     "name": "stdout",
     "output_type": "stream",
     "text": [
      "[CV] END .................................................... total time=  49.0s\n"
     ]
    },
    {
     "name": "stderr",
     "output_type": "stream",
     "text": [
      "[Parallel(n_jobs=1)]: Done   1 out of   1 | elapsed:   49.0s remaining:    0.0s\n"
     ]
    },
    {
     "name": "stdout",
     "output_type": "stream",
     "text": [
      "[CV] END .................................................... total time=  49.7s\n",
      "[CV] END .................................................... total time=  49.4s\n"
     ]
    },
    {
     "name": "stderr",
     "output_type": "stream",
     "text": [
      "[Parallel(n_jobs=1)]: Done   3 out of   3 | elapsed:  2.5min finished\n"
     ]
    }
   ],
   "source": [
    "svml_model = SVC(kernel='linear', random_state=123)\n",
    "st_time = time.time()\n",
    "svml_scores = cross_val_score(svml_model, X_train[:30000], y_train[:30000], cv=3, scoring='accuracy', verbose=2)\n",
    "elapsed_time = time.time()-st_time"
   ]
  },
  {
   "cell_type": "code",
   "execution_count": 38,
   "id": "3d2d4cea-e420-4cb2-9d8f-0cb2e78512a9",
   "metadata": {
    "tags": []
   },
   "outputs": [
    {
     "data": {
      "text/plain": [
       "array([0.9109, 0.9045, 0.9098])"
      ]
     },
     "execution_count": 38,
     "metadata": {},
     "output_type": "execute_result"
    }
   ],
   "source": [
    "svml_scores"
   ]
  },
  {
   "cell_type": "code",
   "execution_count": 39,
   "id": "845fd182-ecb0-4334-a364-493279db04ee",
   "metadata": {
    "tags": []
   },
   "outputs": [
    {
     "data": {
      "text/plain": [
       "0.9084"
      ]
     },
     "execution_count": 39,
     "metadata": {},
     "output_type": "execute_result"
    }
   ],
   "source": [
    "np.mean(svml_scores)"
   ]
  },
  {
   "cell_type": "code",
   "execution_count": 40,
   "id": "e07a36d8-179d-488c-a8a2-4e3387bd8d80",
   "metadata": {
    "tags": []
   },
   "outputs": [],
   "source": [
    "mean_cv_accuracy.append(('svml_scores', np.mean(svml_scores), elapsed_time))"
   ]
  },
  {
   "cell_type": "markdown",
   "id": "7c09d0b7-9016-448c-9b8f-564c963d3801",
   "metadata": {},
   "source": [
    "---\n",
    "### SVM with with default RBF kernel"
   ]
  },
  {
   "cell_type": "code",
   "execution_count": 41,
   "id": "2e57782b-5739-4ca3-91c7-ec045990a605",
   "metadata": {
    "tags": []
   },
   "outputs": [
    {
     "name": "stderr",
     "output_type": "stream",
     "text": [
      "[Parallel(n_jobs=1)]: Using backend SequentialBackend with 1 concurrent workers.\n"
     ]
    },
    {
     "name": "stdout",
     "output_type": "stream",
     "text": [
      "[CV] END .................................................... total time= 4.1min\n"
     ]
    },
    {
     "name": "stderr",
     "output_type": "stream",
     "text": [
      "[Parallel(n_jobs=1)]: Done   1 out of   1 | elapsed:  4.1min remaining:    0.0s\n"
     ]
    },
    {
     "name": "stdout",
     "output_type": "stream",
     "text": [
      "[CV] END .................................................... total time= 4.5min\n",
      "[CV] END .................................................... total time= 4.9min\n"
     ]
    },
    {
     "name": "stderr",
     "output_type": "stream",
     "text": [
      "[Parallel(n_jobs=1)]: Done   3 out of   3 | elapsed: 13.6min finished\n"
     ]
    }
   ],
   "source": [
    "svm_model = SVC(random_state=123, C=10)\n",
    "st_time = time.time()\n",
    "svm_scores = cross_val_score(svm_model, X_train, y_train, cv=3, scoring='accuracy', verbose=2)\n",
    "elapsed_time = time.time()-st_time"
   ]
  },
  {
   "cell_type": "code",
   "execution_count": 42,
   "id": "bcd2b531-aea8-4a08-9316-1460126eaeb0",
   "metadata": {
    "tags": []
   },
   "outputs": [
    {
     "data": {
      "text/plain": [
       "array([0.9821 , 0.97945, 0.97905])"
      ]
     },
     "execution_count": 42,
     "metadata": {},
     "output_type": "execute_result"
    }
   ],
   "source": [
    "svm_scores"
   ]
  },
  {
   "cell_type": "code",
   "execution_count": 43,
   "id": "98e4c210-5473-4070-8995-33b22af2bc18",
   "metadata": {
    "tags": []
   },
   "outputs": [
    {
     "data": {
      "text/plain": [
       "0.9802"
      ]
     },
     "execution_count": 43,
     "metadata": {},
     "output_type": "execute_result"
    }
   ],
   "source": [
    "np.mean(svm_scores)"
   ]
  },
  {
   "cell_type": "code",
   "execution_count": 44,
   "id": "63dc0124-e1cf-472c-85bb-2f2985655734",
   "metadata": {
    "tags": []
   },
   "outputs": [],
   "source": [
    "mean_cv_accuracy.append(('svm_scores', np.mean(svm_scores), elapsed_time))"
   ]
  },
  {
   "cell_type": "markdown",
   "id": "23f16334-5473-45de-b3b0-aa0c4e434cf1",
   "metadata": {},
   "source": [
    "---\n",
    "### Tree Based Classifiers\n",
    "#### Decision Tree"
   ]
  },
  {
   "cell_type": "code",
   "execution_count": 45,
   "id": "aeec1a44-aa34-49ed-ac59-b89189e0f880",
   "metadata": {
    "tags": []
   },
   "outputs": [],
   "source": [
    "from sklearn.tree import DecisionTreeClassifier"
   ]
  },
  {
   "cell_type": "code",
   "execution_count": 46,
   "id": "a2d9f34d-433e-4561-9e7a-3cba586e4aa3",
   "metadata": {
    "tags": []
   },
   "outputs": [
    {
     "name": "stderr",
     "output_type": "stream",
     "text": [
      "[Parallel(n_jobs=1)]: Using backend SequentialBackend with 1 concurrent workers.\n"
     ]
    },
    {
     "name": "stdout",
     "output_type": "stream",
     "text": [
      "[CV] END .................................................... total time=  13.1s\n"
     ]
    },
    {
     "name": "stderr",
     "output_type": "stream",
     "text": [
      "[Parallel(n_jobs=1)]: Done   1 out of   1 | elapsed:   13.2s remaining:    0.0s\n"
     ]
    },
    {
     "name": "stdout",
     "output_type": "stream",
     "text": [
      "[CV] END .................................................... total time=  12.6s\n",
      "[CV] END .................................................... total time=  12.0s\n"
     ]
    },
    {
     "name": "stderr",
     "output_type": "stream",
     "text": [
      "[Parallel(n_jobs=1)]: Done   3 out of   3 | elapsed:   38.1s finished\n"
     ]
    }
   ],
   "source": [
    "tree_model = DecisionTreeClassifier(random_state=123, max_depth=16)\n",
    "st_time = time.time()\n",
    "tree_scores = cross_val_score(tree_model,X_train,y_train, cv=3, scoring='accuracy', verbose=2)\n",
    "elapsed_time = time.time()-st_time"
   ]
  },
  {
   "cell_type": "code",
   "execution_count": 47,
   "id": "ea8dbfdf-39f2-4857-9a64-421d54508df0",
   "metadata": {
    "tags": []
   },
   "outputs": [
    {
     "data": {
      "text/plain": [
       "array([0.8618 , 0.86175, 0.86885])"
      ]
     },
     "execution_count": 47,
     "metadata": {},
     "output_type": "execute_result"
    }
   ],
   "source": [
    "tree_scores"
   ]
  },
  {
   "cell_type": "code",
   "execution_count": 48,
   "id": "0d688b69-c1ed-4a34-9b08-cdced773016e",
   "metadata": {
    "tags": []
   },
   "outputs": [
    {
     "data": {
      "text/plain": [
       "0.8641333333333333"
      ]
     },
     "execution_count": 48,
     "metadata": {},
     "output_type": "execute_result"
    }
   ],
   "source": [
    "np.mean(tree_scores)"
   ]
  },
  {
   "cell_type": "code",
   "execution_count": 49,
   "id": "0086e5c9-41fc-40f4-8344-ea06c0291474",
   "metadata": {
    "tags": []
   },
   "outputs": [],
   "source": [
    "mean_cv_accuracy.append(('tree_scores', np.mean(tree_scores), elapsed_time))"
   ]
  },
  {
   "cell_type": "markdown",
   "id": "499b0ed8-5972-4d4f-a99c-38660960822a",
   "metadata": {},
   "source": [
    "#### Gradient Boosting Classifier"
   ]
  },
  {
   "cell_type": "code",
   "execution_count": 50,
   "id": "c57314db-8055-4efa-8905-f13412a2af07",
   "metadata": {
    "tags": []
   },
   "outputs": [],
   "source": [
    "from sklearn.ensemble import GradientBoostingClassifier"
   ]
  },
  {
   "cell_type": "code",
   "execution_count": 51,
   "id": "432a800d-d285-412c-86da-c744ea8a8761",
   "metadata": {
    "tags": []
   },
   "outputs": [
    {
     "name": "stderr",
     "output_type": "stream",
     "text": [
      "[Parallel(n_jobs=1)]: Using backend SequentialBackend with 1 concurrent workers.\n"
     ]
    },
    {
     "name": "stdout",
     "output_type": "stream",
     "text": [
      "[CV] END .................................................... total time=  53.2s\n"
     ]
    },
    {
     "name": "stderr",
     "output_type": "stream",
     "text": [
      "[Parallel(n_jobs=1)]: Done   1 out of   1 | elapsed:   53.2s remaining:    0.0s\n"
     ]
    },
    {
     "name": "stdout",
     "output_type": "stream",
     "text": [
      "[CV] END .................................................... total time=  47.6s\n",
      "[CV] END .................................................... total time=  47.7s\n"
     ]
    },
    {
     "name": "stderr",
     "output_type": "stream",
     "text": [
      "[Parallel(n_jobs=1)]: Done   3 out of   3 | elapsed:  2.5min finished\n"
     ]
    }
   ],
   "source": [
    "gb_model = GradientBoostingClassifier(n_estimators=20, random_state=123)\n",
    "st_time = time.time()\n",
    "gb_scores = cross_val_score(gb_model,X_train[:5000],y_train[:5000], cv=3, scoring='accuracy', verbose=2)\n",
    "elapsed_time = time.time()-st_time"
   ]
  },
  {
   "cell_type": "code",
   "execution_count": 52,
   "id": "117b069f-3623-4e3b-9002-7d7c5cc569ef",
   "metadata": {
    "tags": []
   },
   "outputs": [
    {
     "data": {
      "text/plain": [
       "array([0.85002999, 0.87822436, 0.8517407 ])"
      ]
     },
     "execution_count": 52,
     "metadata": {},
     "output_type": "execute_result"
    }
   ],
   "source": [
    "gb_scores"
   ]
  },
  {
   "cell_type": "code",
   "execution_count": 53,
   "id": "91de5bab-9205-40b0-b92a-561e80e3839d",
   "metadata": {
    "tags": []
   },
   "outputs": [
    {
     "data": {
      "text/plain": [
       "0.8599983484695617"
      ]
     },
     "execution_count": 53,
     "metadata": {},
     "output_type": "execute_result"
    }
   ],
   "source": [
    "np.mean(gb_scores)"
   ]
  },
  {
   "cell_type": "code",
   "execution_count": 54,
   "id": "66d344d5-1ad7-4f7a-946a-924fccc4ffbf",
   "metadata": {
    "tags": []
   },
   "outputs": [],
   "source": [
    "mean_cv_accuracy.append(('gb_scores', np.mean(gb_scores), elapsed_time))"
   ]
  },
  {
   "cell_type": "markdown",
   "id": "4b269b96-a398-49f5-a29a-35d6be777e14",
   "metadata": {},
   "source": [
    "#### XGBoost Classifier"
   ]
  },
  {
   "cell_type": "code",
   "execution_count": 55,
   "id": "dffcfcba-47b8-4e24-9f1a-4402e1dde22d",
   "metadata": {
    "tags": []
   },
   "outputs": [],
   "source": [
    "from xgboost import XGBClassifier"
   ]
  },
  {
   "cell_type": "code",
   "execution_count": 57,
   "id": "25db6301-2dfa-485f-a039-fc90c928fc1c",
   "metadata": {
    "tags": []
   },
   "outputs": [
    {
     "name": "stderr",
     "output_type": "stream",
     "text": [
      "[Parallel(n_jobs=1)]: Using backend SequentialBackend with 1 concurrent workers.\n"
     ]
    },
    {
     "name": "stdout",
     "output_type": "stream",
     "text": [
      "[CV] END .................................................... total time=14.0min\n"
     ]
    },
    {
     "name": "stderr",
     "output_type": "stream",
     "text": [
      "[Parallel(n_jobs=1)]: Done   1 out of   1 | elapsed: 14.0min remaining:    0.0s\n"
     ]
    },
    {
     "name": "stdout",
     "output_type": "stream",
     "text": [
      "[CV] END .................................................... total time=13.3min\n",
      "[CV] END .................................................... total time=14.2min\n"
     ]
    },
    {
     "name": "stderr",
     "output_type": "stream",
     "text": [
      "[Parallel(n_jobs=1)]: Done   3 out of   3 | elapsed: 41.5min finished\n"
     ]
    }
   ],
   "source": [
    "xgb_model = XGBClassifier(objective='multi:softprob')\n",
    "st_time = time.time()\n",
    "xgb_scores = cross_val_score(xgb_model, X_train, y_train.astype('int'), cv=3, scoring='accuracy', verbose=2)\n",
    "elapsed_time = time.time()-st_time"
   ]
  },
  {
   "cell_type": "code",
   "execution_count": 58,
   "id": "c3e4a803-8b98-4621-9289-b1018e7ef13b",
   "metadata": {
    "tags": []
   },
   "outputs": [
    {
     "data": {
      "text/plain": [
       "array([0.97465, 0.97065, 0.9732 ])"
      ]
     },
     "execution_count": 58,
     "metadata": {},
     "output_type": "execute_result"
    }
   ],
   "source": [
    "xgb_scores"
   ]
  },
  {
   "cell_type": "code",
   "execution_count": 59,
   "id": "bb6f03d6-a33c-4e67-a316-9f3daafffe8a",
   "metadata": {
    "tags": []
   },
   "outputs": [
    {
     "data": {
      "text/plain": [
       "0.9728333333333333"
      ]
     },
     "execution_count": 59,
     "metadata": {},
     "output_type": "execute_result"
    }
   ],
   "source": [
    "np.mean(xgb_scores)"
   ]
  },
  {
   "cell_type": "code",
   "execution_count": 60,
   "id": "6255fd86-3c81-4771-85c0-c0f64e6c2b9d",
   "metadata": {
    "tags": []
   },
   "outputs": [],
   "source": [
    "mean_cv_accuracy.append(('xgb_scores', np.mean(xgb_scores), elapsed_time))"
   ]
  },
  {
   "cell_type": "markdown",
   "id": "36b2fc13-ade4-4143-80bd-e3650b4aef33",
   "metadata": {},
   "source": [
    "#### Random Forests"
   ]
  },
  {
   "cell_type": "code",
   "execution_count": 28,
   "id": "2276df81-4252-4e3e-acec-da61175535d2",
   "metadata": {
    "tags": []
   },
   "outputs": [],
   "source": [
    "from sklearn.ensemble import RandomForestClassifier"
   ]
  },
  {
   "cell_type": "code",
   "execution_count": 62,
   "id": "083e9b58-87b5-4268-9d8e-c7fe46f6749c",
   "metadata": {
    "tags": []
   },
   "outputs": [
    {
     "name": "stderr",
     "output_type": "stream",
     "text": [
      "[Parallel(n_jobs=1)]: Using backend SequentialBackend with 1 concurrent workers.\n"
     ]
    },
    {
     "name": "stdout",
     "output_type": "stream",
     "text": [
      "[CV] END .................................................... total time=  37.7s\n"
     ]
    },
    {
     "name": "stderr",
     "output_type": "stream",
     "text": [
      "[Parallel(n_jobs=1)]: Done   1 out of   1 | elapsed:   37.8s remaining:    0.0s\n"
     ]
    },
    {
     "name": "stdout",
     "output_type": "stream",
     "text": [
      "[CV] END .................................................... total time=  39.3s\n",
      "[CV] END .................................................... total time=  39.2s\n"
     ]
    },
    {
     "name": "stderr",
     "output_type": "stream",
     "text": [
      "[Parallel(n_jobs=1)]: Done   3 out of   3 | elapsed:  1.9min finished\n"
     ]
    }
   ],
   "source": [
    "rf_model = RandomForestClassifier(random_state=123)\n",
    "st_time = time.time()\n",
    "rf_scores = cross_val_score(rf_model, X_train, y_train, cv=3, scoring='accuracy', verbose=2)\n",
    "elapsed_time = time.time()-st_time"
   ]
  },
  {
   "cell_type": "code",
   "execution_count": 63,
   "id": "c1b05ec2-f6e2-4236-a87d-b3442f2d798e",
   "metadata": {
    "tags": []
   },
   "outputs": [
    {
     "data": {
      "text/plain": [
       "array([0.96645, 0.9635 , 0.96515])"
      ]
     },
     "execution_count": 63,
     "metadata": {},
     "output_type": "execute_result"
    }
   ],
   "source": [
    "rf_scores"
   ]
  },
  {
   "cell_type": "code",
   "execution_count": 64,
   "id": "d075bc75-d3f0-4d1a-b8ef-3f6cf0890009",
   "metadata": {
    "tags": []
   },
   "outputs": [
    {
     "data": {
      "text/plain": [
       "0.9650333333333334"
      ]
     },
     "execution_count": 64,
     "metadata": {},
     "output_type": "execute_result"
    }
   ],
   "source": [
    "np.mean(rf_scores)"
   ]
  },
  {
   "cell_type": "code",
   "execution_count": 65,
   "id": "32f0c109-edc2-4ef0-86d7-2fb24ac984dc",
   "metadata": {
    "tags": []
   },
   "outputs": [],
   "source": [
    "mean_cv_accuracy.append(('rf_scores', np.mean(rf_scores), elapsed_time))"
   ]
  },
  {
   "cell_type": "markdown",
   "id": "c0678a85-1054-4db4-a2ff-7b84181d6c0f",
   "metadata": {},
   "source": [
    "---\n",
    "### KNearestNeighbor Classifier"
   ]
  },
  {
   "cell_type": "code",
   "execution_count": 11,
   "id": "ae3903fe-96f2-49ad-8eaa-9bc298fa6eae",
   "metadata": {
    "tags": []
   },
   "outputs": [],
   "source": [
    "from sklearn.neighbors import KNeighborsClassifier"
   ]
  },
  {
   "cell_type": "code",
   "execution_count": 67,
   "id": "05d07edb-c202-4ee3-892a-0b0b3b681849",
   "metadata": {
    "tags": []
   },
   "outputs": [
    {
     "name": "stderr",
     "output_type": "stream",
     "text": [
      "[Parallel(n_jobs=1)]: Using backend SequentialBackend with 1 concurrent workers.\n"
     ]
    },
    {
     "name": "stdout",
     "output_type": "stream",
     "text": [
      "[CV] END .................................................... total time=  35.3s\n"
     ]
    },
    {
     "name": "stderr",
     "output_type": "stream",
     "text": [
      "[Parallel(n_jobs=1)]: Done   1 out of   1 | elapsed:   35.3s remaining:    0.0s\n"
     ]
    },
    {
     "name": "stdout",
     "output_type": "stream",
     "text": [
      "[CV] END .................................................... total time=  36.7s\n",
      "[CV] END .................................................... total time=  37.8s\n"
     ]
    },
    {
     "name": "stderr",
     "output_type": "stream",
     "text": [
      "[Parallel(n_jobs=1)]: Done   3 out of   3 | elapsed:  1.8min finished\n"
     ]
    }
   ],
   "source": [
    "knn_model = KNeighborsClassifier(n_neighbors=5)\n",
    "st_time = time.time()\n",
    "knn_scores = cross_val_score(knn_model, X_train, y_train, cv=3, scoring='accuracy', verbose=2)\n",
    "elapsed_time = time.time()-st_time"
   ]
  },
  {
   "cell_type": "code",
   "execution_count": 68,
   "id": "b7af1221-588a-4f53-9265-41b155f1a9dd",
   "metadata": {
    "tags": []
   },
   "outputs": [
    {
     "data": {
      "text/plain": [
       "array([0.9676 , 0.9671 , 0.96755])"
      ]
     },
     "execution_count": 68,
     "metadata": {},
     "output_type": "execute_result"
    }
   ],
   "source": [
    "knn_scores"
   ]
  },
  {
   "cell_type": "code",
   "execution_count": 69,
   "id": "2fdaa311-9b84-483f-9da7-31efbc60f108",
   "metadata": {
    "tags": []
   },
   "outputs": [
    {
     "data": {
      "text/plain": [
       "0.9674166666666667"
      ]
     },
     "execution_count": 69,
     "metadata": {},
     "output_type": "execute_result"
    }
   ],
   "source": [
    "np.mean(knn_scores)"
   ]
  },
  {
   "cell_type": "code",
   "execution_count": 70,
   "id": "ddcae411-0682-4786-b683-69d1b75be2c3",
   "metadata": {
    "tags": []
   },
   "outputs": [],
   "source": [
    "mean_cv_accuracy.append(('knn_scores', np.mean(knn_scores), elapsed_time))"
   ]
  },
  {
   "cell_type": "markdown",
   "id": "a3571ee2-cf89-4443-979e-736fe48f911f",
   "metadata": {
    "tags": []
   },
   "source": [
    "---\n",
    "### Performance comparison"
   ]
  },
  {
   "cell_type": "code",
   "execution_count": 90,
   "id": "0bf8a26c-b0da-4765-b681-773553281630",
   "metadata": {
    "tags": []
   },
   "outputs": [],
   "source": [
    "model_performance = pd.DataFrame(mean_cv_accuracy, columns=['model', 'mean_cv_accuracy', 'elapsed_time'])\n",
    "model_performance = model_performance.sort_values('mean_cv_accuracy', ascending=False).reset_index(drop=True)\n",
    "model_performance['mean_cv_accuracy'] = round(model_performance['mean_cv_accuracy']*100,2)\n",
    "model_performance['elapsed_time'] = round(model_performance['elapsed_time']).astype('int')"
   ]
  },
  {
   "cell_type": "code",
   "execution_count": 91,
   "id": "2b0d2af1-684f-4cdf-9b86-e02fb4693b5f",
   "metadata": {
    "tags": []
   },
   "outputs": [
    {
     "data": {
      "text/html": [
       "<div>\n",
       "<style scoped>\n",
       "    .dataframe tbody tr th:only-of-type {\n",
       "        vertical-align: middle;\n",
       "    }\n",
       "\n",
       "    .dataframe tbody tr th {\n",
       "        vertical-align: top;\n",
       "    }\n",
       "\n",
       "    .dataframe thead th {\n",
       "        text-align: right;\n",
       "    }\n",
       "</style>\n",
       "<table border=\"1\" class=\"dataframe\">\n",
       "  <thead>\n",
       "    <tr style=\"text-align: right;\">\n",
       "      <th></th>\n",
       "      <th>model</th>\n",
       "      <th>mean_cv_accuracy</th>\n",
       "      <th>elapsed_time</th>\n",
       "    </tr>\n",
       "  </thead>\n",
       "  <tbody>\n",
       "    <tr>\n",
       "      <th>0</th>\n",
       "      <td>svm_scores</td>\n",
       "      <td>98.02</td>\n",
       "      <td>814</td>\n",
       "    </tr>\n",
       "    <tr>\n",
       "      <th>1</th>\n",
       "      <td>xgb_scores</td>\n",
       "      <td>97.28</td>\n",
       "      <td>2490</td>\n",
       "    </tr>\n",
       "    <tr>\n",
       "      <th>2</th>\n",
       "      <td>knn_scores</td>\n",
       "      <td>96.74</td>\n",
       "      <td>110</td>\n",
       "    </tr>\n",
       "    <tr>\n",
       "      <th>3</th>\n",
       "      <td>rf_scores</td>\n",
       "      <td>96.50</td>\n",
       "      <td>117</td>\n",
       "    </tr>\n",
       "    <tr>\n",
       "      <th>4</th>\n",
       "      <td>logit_score</td>\n",
       "      <td>91.52</td>\n",
       "      <td>59</td>\n",
       "    </tr>\n",
       "    <tr>\n",
       "      <th>5</th>\n",
       "      <td>svml_scores</td>\n",
       "      <td>90.84</td>\n",
       "      <td>149</td>\n",
       "    </tr>\n",
       "    <tr>\n",
       "      <th>6</th>\n",
       "      <td>logit_score_scaled</td>\n",
       "      <td>90.80</td>\n",
       "      <td>59</td>\n",
       "    </tr>\n",
       "    <tr>\n",
       "      <th>7</th>\n",
       "      <td>sgd_score_scaled</td>\n",
       "      <td>89.58</td>\n",
       "      <td>806</td>\n",
       "    </tr>\n",
       "    <tr>\n",
       "      <th>8</th>\n",
       "      <td>sgd_score</td>\n",
       "      <td>87.58</td>\n",
       "      <td>303</td>\n",
       "    </tr>\n",
       "    <tr>\n",
       "      <th>9</th>\n",
       "      <td>tree_scores</td>\n",
       "      <td>86.41</td>\n",
       "      <td>38</td>\n",
       "    </tr>\n",
       "    <tr>\n",
       "      <th>10</th>\n",
       "      <td>gb_scores</td>\n",
       "      <td>86.00</td>\n",
       "      <td>149</td>\n",
       "    </tr>\n",
       "  </tbody>\n",
       "</table>\n",
       "</div>"
      ],
      "text/plain": [
       "                 model  mean_cv_accuracy  elapsed_time\n",
       "0           svm_scores             98.02           814\n",
       "1           xgb_scores             97.28          2490\n",
       "2           knn_scores             96.74           110\n",
       "3            rf_scores             96.50           117\n",
       "4          logit_score             91.52            59\n",
       "5          svml_scores             90.84           149\n",
       "6   logit_score_scaled             90.80            59\n",
       "7     sgd_score_scaled             89.58           806\n",
       "8            sgd_score             87.58           303\n",
       "9          tree_scores             86.41            38\n",
       "10           gb_scores             86.00           149"
      ]
     },
     "execution_count": 91,
     "metadata": {},
     "output_type": "execute_result"
    }
   ],
   "source": [
    "model_performance"
   ]
  },
  {
   "cell_type": "code",
   "execution_count": 98,
   "id": "746534c9-b720-4b76-b149-fe45724b9d55",
   "metadata": {
    "tags": []
   },
   "outputs": [
    {
     "data": {
      "image/png": "[encoded data removed]",
      "text/plain": [
       "<Figure size 640x480 with 1 Axes>"
      ]
     },
     "metadata": {},
     "output_type": "display_data"
    }
   ],
   "source": [
    "model_performance.plot(kind='scatter', x='model', y='mean_cv_accuracy')\n",
    "plt.xticks(rotation = 45) \n",
    "plt.show()"
   ]
  },
  {
   "cell_type": "markdown",
   "id": "d2734bd3-4e1d-4057-9868-067e18cb57d3",
   "metadata": {},
   "source": [
    "Out of the models we tried, top four stand apart from the rest"
   ]
  },
  {
   "cell_type": "markdown",
   "id": "6faf4004-284e-41fa-ae1f-dc53825a3b91",
   "metadata": {
    "tags": []
   },
   "source": [
    "---\n",
    "### Fine tune hyperparamters\n",
    "\n",
    "Out of the top four, we will try to tune the KNN and Random Forest first, to see if they can outperform the other two, since they take much less time to be trained.\n",
    "\n",
    "Before moving on with hypterparamters, we will check if the scaled input can improve the performance"
   ]
  },
  {
   "cell_type": "markdown",
   "id": "5cbd3aab-0564-4b68-ac46-a438da1383b5",
   "metadata": {},
   "source": [
    "We already created `X_train_scaled` with standard scaler, and we will try the min-max scalter too"
   ]
  },
  {
   "cell_type": "code",
   "execution_count": 99,
   "id": "0515cc9c-48d3-4505-b4cd-d9c1d9d77b23",
   "metadata": {
    "tags": []
   },
   "outputs": [],
   "source": [
    "X_train_std_scaled = X_train_scaled"
   ]
  },
  {
   "cell_type": "code",
   "execution_count": 100,
   "id": "b283fb96-8c1b-4c2b-ac50-9e9445c68971",
   "metadata": {
    "tags": []
   },
   "outputs": [],
   "source": [
    "from sklearn.preprocessing import MinMaxScaler\n",
    "mm_scaler = MinMaxScaler()\n",
    "X_train_mm_scaled = mm_scaler.fit_transform(X_train)"
   ]
  },
  {
   "cell_type": "code",
   "execution_count": 111,
   "id": "14cf39f0-1c72-493d-8f5d-c10c46e34f83",
   "metadata": {
    "tags": []
   },
   "outputs": [
    {
     "name": "stderr",
     "output_type": "stream",
     "text": [
      "[Parallel(n_jobs=1)]: Using backend SequentialBackend with 1 concurrent workers.\n"
     ]
    },
    {
     "name": "stdout",
     "output_type": "stream",
     "text": [
      "[CV] END .................................................... total time=  24.5s\n"
     ]
    },
    {
     "name": "stderr",
     "output_type": "stream",
     "text": [
      "[Parallel(n_jobs=1)]: Done   1 out of   1 | elapsed:   24.6s remaining:    0.0s\n"
     ]
    },
    {
     "name": "stdout",
     "output_type": "stream",
     "text": [
      "[CV] END .................................................... total time=  28.4s\n",
      "[CV] END .................................................... total time=  28.6s\n"
     ]
    },
    {
     "name": "stderr",
     "output_type": "stream",
     "text": [
      "[Parallel(n_jobs=1)]: Done   3 out of   3 | elapsed:  1.4min finished\n"
     ]
    }
   ],
   "source": [
    "knn_scores_std_scaled = cross_val_score(knn_model, X_train_std_scaled, y_train, cv=10, scoring='accuracy', verbose=2)"
   ]
  },
  {
   "cell_type": "code",
   "execution_count": 112,
   "id": "a04aea43-5fff-4587-ac1f-24dfa3657457",
   "metadata": {
    "tags": []
   },
   "outputs": [
    {
     "data": {
      "text/plain": [
       "array([0.9376, 0.9411, 0.9424])"
      ]
     },
     "execution_count": 112,
     "metadata": {},
     "output_type": "execute_result"
    }
   ],
   "source": [
    "knn_scores_std_scaled"
   ]
  },
  {
   "cell_type": "code",
   "execution_count": 113,
   "id": "97ef7dd0-2444-41b5-aa4e-261eeb36954b",
   "metadata": {
    "tags": []
   },
   "outputs": [
    {
     "data": {
      "text/plain": [
       "0.9403666666666667"
      ]
     },
     "execution_count": 113,
     "metadata": {},
     "output_type": "execute_result"
    }
   ],
   "source": [
    "np.mean(knn_scores_std_scaled)"
   ]
  },
  {
   "cell_type": "code",
   "execution_count": 114,
   "id": "181e01cd-7794-4290-a3bf-4d5e3b17c39e",
   "metadata": {
    "tags": []
   },
   "outputs": [
    {
     "name": "stderr",
     "output_type": "stream",
     "text": [
      "[Parallel(n_jobs=1)]: Using backend SequentialBackend with 1 concurrent workers.\n"
     ]
    },
    {
     "name": "stdout",
     "output_type": "stream",
     "text": [
      "[CV] END .................................................... total time=  42.5s\n"
     ]
    },
    {
     "name": "stderr",
     "output_type": "stream",
     "text": [
      "[Parallel(n_jobs=1)]: Done   1 out of   1 | elapsed:   42.6s remaining:    0.0s\n"
     ]
    },
    {
     "name": "stdout",
     "output_type": "stream",
     "text": [
      "[CV] END .................................................... total time= 1.0min\n",
      "[CV] END .................................................... total time=  42.7s\n"
     ]
    },
    {
     "name": "stderr",
     "output_type": "stream",
     "text": [
      "[Parallel(n_jobs=1)]: Done   3 out of   3 | elapsed:  2.4min finished\n"
     ]
    }
   ],
   "source": [
    "rf_scores_std_scaled  = cross_val_score(rf_model, X_train_std_scaled, y_train, cv=3, scoring='accuracy', verbose=2)"
   ]
  },
  {
   "cell_type": "code",
   "execution_count": 115,
   "id": "289b2ec3-a441-4c31-aa3a-c529ee33cc99",
   "metadata": {
    "tags": []
   },
   "outputs": [
    {
     "data": {
      "text/plain": [
       "array([0.96645, 0.9636 , 0.96525])"
      ]
     },
     "execution_count": 115,
     "metadata": {},
     "output_type": "execute_result"
    }
   ],
   "source": [
    "rf_scores_std_scaled"
   ]
  },
  {
   "cell_type": "code",
   "execution_count": 116,
   "id": "140572b2-e19a-44e0-8c91-e0ea7c1fe206",
   "metadata": {
    "tags": []
   },
   "outputs": [
    {
     "data": {
      "text/plain": [
       "0.9651000000000001"
      ]
     },
     "execution_count": 116,
     "metadata": {},
     "output_type": "execute_result"
    }
   ],
   "source": [
    "np.mean(rf_scores_std_scaled)"
   ]
  },
  {
   "cell_type": "code",
   "execution_count": 117,
   "id": "2209d3ff-2ae3-4d13-9450-cff8907470f2",
   "metadata": {
    "tags": []
   },
   "outputs": [
    {
     "name": "stderr",
     "output_type": "stream",
     "text": [
      "[Parallel(n_jobs=1)]: Using backend SequentialBackend with 1 concurrent workers.\n"
     ]
    },
    {
     "name": "stdout",
     "output_type": "stream",
     "text": [
      "[CV] END .................................................... total time=  27.0s\n"
     ]
    },
    {
     "name": "stderr",
     "output_type": "stream",
     "text": [
      "[Parallel(n_jobs=1)]: Done   1 out of   1 | elapsed:   27.0s remaining:    0.0s\n"
     ]
    },
    {
     "name": "stdout",
     "output_type": "stream",
     "text": [
      "[CV] END .................................................... total time=  28.8s\n",
      "[CV] END .................................................... total time=  27.6s\n"
     ]
    },
    {
     "name": "stderr",
     "output_type": "stream",
     "text": [
      "[Parallel(n_jobs=1)]: Done   3 out of   3 | elapsed:  1.4min finished\n"
     ]
    }
   ],
   "source": [
    "knn_scores_mm_scaled = cross_val_score(knn_model, X_train_mm_scaled, y_train, cv=3, scoring='accuracy', verbose=2)"
   ]
  },
  {
   "cell_type": "code",
   "execution_count": 118,
   "id": "496bf182-685f-4fbc-bbe7-f0bb56fe9a81",
   "metadata": {
    "tags": []
   },
   "outputs": [
    {
     "data": {
      "text/plain": [
       "0.9674333333333333"
      ]
     },
     "execution_count": 118,
     "metadata": {},
     "output_type": "execute_result"
    }
   ],
   "source": [
    "np.mean(knn_scores_mm_scaled)"
   ]
  },
  {
   "cell_type": "code",
   "execution_count": 119,
   "id": "3220cb80-c76c-4a95-babb-be733356c7d9",
   "metadata": {
    "tags": []
   },
   "outputs": [
    {
     "name": "stderr",
     "output_type": "stream",
     "text": [
      "[Parallel(n_jobs=1)]: Using backend SequentialBackend with 1 concurrent workers.\n"
     ]
    },
    {
     "name": "stdout",
     "output_type": "stream",
     "text": [
      "[CV] END .................................................... total time=  42.8s\n"
     ]
    },
    {
     "name": "stderr",
     "output_type": "stream",
     "text": [
      "[Parallel(n_jobs=1)]: Done   1 out of   1 | elapsed:   42.9s remaining:    0.0s\n"
     ]
    },
    {
     "name": "stdout",
     "output_type": "stream",
     "text": [
      "[CV] END .................................................... total time=  42.2s\n",
      "[CV] END .................................................... total time=  40.9s\n"
     ]
    },
    {
     "name": "stderr",
     "output_type": "stream",
     "text": [
      "[Parallel(n_jobs=1)]: Done   3 out of   3 | elapsed:  2.1min finished\n"
     ]
    }
   ],
   "source": [
    "rf_scores_mm_scaled  = cross_val_score(rf_model, X_train_mm_scaled, y_train, cv=3, scoring='accuracy', verbose=2)"
   ]
  },
  {
   "cell_type": "code",
   "execution_count": 120,
   "id": "df8e5f5e-011f-472a-a98a-d9876a3639ed",
   "metadata": {
    "tags": []
   },
   "outputs": [
    {
     "data": {
      "text/plain": [
       "0.965"
      ]
     },
     "execution_count": 120,
     "metadata": {},
     "output_type": "execute_result"
    }
   ],
   "source": [
    "np.mean(rf_scores_mm_scaled)"
   ]
  },
  {
   "cell_type": "markdown",
   "id": "cee1d5f4-846c-46a7-ad0a-1cf7ac01f7d1",
   "metadata": {},
   "source": [
    "Not much improved with min_max scaling"
   ]
  },
  {
   "cell_type": "markdown",
   "id": "eb6d4e0c-567c-47c9-9c6a-3522a7e76e67",
   "metadata": {},
   "source": [
    "#### GridSearchCV"
   ]
  },
  {
   "cell_type": "markdown",
   "id": "e485b12f-8092-4bb4-96f2-b6ef982b1224",
   "metadata": {},
   "source": [
    "We will tune hyper paramters with `GridSearchCV`"
   ]
  },
  {
   "cell_type": "code",
   "execution_count": 9,
   "id": "7746c303-22dd-450f-83b6-cc0f02304d05",
   "metadata": {
    "tags": []
   },
   "outputs": [],
   "source": [
    "from sklearn.model_selection import GridSearchCV"
   ]
  },
  {
   "cell_type": "markdown",
   "id": "e59afb9c-2885-4034-9966-87a199b9f008",
   "metadata": {},
   "source": [
    "**KNN**"
   ]
  },
  {
   "cell_type": "code",
   "execution_count": 12,
   "id": "dda3332b-75d3-444d-a68d-56509dfecc9a",
   "metadata": {
    "tags": []
   },
   "outputs": [],
   "source": [
    "knn_model = KNeighborsClassifier()"
   ]
  },
  {
   "cell_type": "code",
   "execution_count": 120,
   "id": "e2ff69d5-9c19-45df-a3ff-4cd240b4671d",
   "metadata": {
    "tags": []
   },
   "outputs": [],
   "source": [
    "param_grid = [{'n_neighbors':[1,3,5],'weights':['uniform', 'distance']}]"
   ]
  },
  {
   "cell_type": "code",
   "execution_count": 121,
   "id": "6cea2e7c-c82f-4ff0-9364-5e271e0efcd7",
   "metadata": {
    "tags": []
   },
   "outputs": [],
   "source": [
    "grid_search_knn = GridSearchCV(knn_model, param_grid=param_grid, scoring='accuracy', cv=3, verbose=5)"
   ]
  },
  {
   "cell_type": "code",
   "execution_count": 122,
   "id": "f3f4cb0a-de15-4412-afc7-59d152d96b27",
   "metadata": {
    "tags": []
   },
   "outputs": [
    {
     "name": "stdout",
     "output_type": "stream",
     "text": [
      "Fitting 3 folds for each of 6 candidates, totalling 18 fits\n",
      "[CV 1/3] END ....n_neighbors=1, weights=uniform;, score=0.969 total time=  28.8s\n",
      "[CV 2/3] END ....n_neighbors=1, weights=uniform;, score=0.967 total time=  30.2s\n",
      "[CV 3/3] END ....n_neighbors=1, weights=uniform;, score=0.967 total time=  30.9s\n",
      "[CV 1/3] END ...n_neighbors=1, weights=distance;, score=0.969 total time=  31.1s\n",
      "[CV 2/3] END ...n_neighbors=1, weights=distance;, score=0.967 total time=  31.2s\n",
      "[CV 3/3] END ...n_neighbors=1, weights=distance;, score=0.967 total time=  31.9s\n",
      "[CV 1/3] END ....n_neighbors=3, weights=uniform;, score=0.969 total time=  34.6s\n",
      "[CV 2/3] END ....n_neighbors=3, weights=uniform;, score=0.968 total time=  34.2s\n",
      "[CV 3/3] END ....n_neighbors=3, weights=uniform;, score=0.968 total time=  35.6s\n",
      "[CV 1/3] END ...n_neighbors=3, weights=distance;, score=0.970 total time=  35.0s\n",
      "[CV 2/3] END ...n_neighbors=3, weights=distance;, score=0.969 total time=  34.4s\n",
      "[CV 3/3] END ...n_neighbors=3, weights=distance;, score=0.969 total time=  35.6s\n",
      "[CV 1/3] END ....n_neighbors=5, weights=uniform;, score=0.968 total time=  41.5s\n",
      "[CV 2/3] END ....n_neighbors=5, weights=uniform;, score=0.967 total time=  40.2s\n",
      "[CV 3/3] END ....n_neighbors=5, weights=uniform;, score=0.968 total time=  40.5s\n",
      "[CV 1/3] END ...n_neighbors=5, weights=distance;, score=0.969 total time=  42.5s\n",
      "[CV 2/3] END ...n_neighbors=5, weights=distance;, score=0.968 total time=  40.8s\n",
      "[CV 3/3] END ...n_neighbors=5, weights=distance;, score=0.969 total time=  40.5s\n"
     ]
    },
    {
     "data": {
      "text/html": [
       "<style>#sk-container-id-5 {color: black;background-color: white;}#sk-container-id-5 pre{padding: 0;}#sk-container-id-5 div.sk-toggleable {background-color: white;}#sk-container-id-5 label.sk-toggleable__label {cursor: pointer;display: block;width: 100%;margin-bottom: 0;padding: 0.3em;box-sizing: border-box;text-align: center;}#sk-container-id-5 label.sk-toggleable__label-arrow:before {content: \"▸\";float: left;margin-right: 0.25em;color: #696969;}#sk-container-id-5 label.sk-toggleable__label-arrow:hover:before {color: black;}#sk-container-id-5 div.sk-estimator:hover label.sk-toggleable__label-arrow:before {color: black;}#sk-container-id-5 div.sk-toggleable__content {max-height: 0;max-width: 0;overflow: hidden;text-align: left;background-color: #f0f8ff;}#sk-container-id-5 div.sk-toggleable__content pre {margin: 0.2em;color: black;border-radius: 0.25em;background-color: #f0f8ff;}#sk-container-id-5 input.sk-toggleable__control:checked~div.sk-toggleable__content {max-height: 200px;max-width: 100%;overflow: auto;}#sk-container-id-5 input.sk-toggleable__control:checked~label.sk-toggleable__label-arrow:before {content: \"▾\";}#sk-container-id-5 div.sk-estimator input.sk-toggleable__control:checked~label.sk-toggleable__label {background-color: #d4ebff;}#sk-container-id-5 div.sk-label input.sk-toggleable__control:checked~label.sk-toggleable__label {background-color: #d4ebff;}#sk-container-id-5 input.sk-hidden--visually {border: 0;clip: rect(1px 1px 1px 1px);clip: rect(1px, 1px, 1px, 1px);height: 1px;margin: -1px;overflow: hidden;padding: 0;position: absolute;width: 1px;}#sk-container-id-5 div.sk-estimator {font-family: monospace;background-color: #f0f8ff;border: 1px dotted black;border-radius: 0.25em;box-sizing: border-box;margin-bottom: 0.5em;}#sk-container-id-5 div.sk-estimator:hover {background-color: #d4ebff;}#sk-container-id-5 div.sk-parallel-item::after {content: \"\";width: 100%;border-bottom: 1px solid gray;flex-grow: 1;}#sk-container-id-5 div.sk-label:hover label.sk-toggleable__label {background-color: #d4ebff;}#sk-container-id-5 div.sk-serial::before {content: \"\";position: absolute;border-left: 1px solid gray;box-sizing: border-box;top: 0;bottom: 0;left: 50%;z-index: 0;}#sk-container-id-5 div.sk-serial {display: flex;flex-direction: column;align-items: center;background-color: white;padding-right: 0.2em;padding-left: 0.2em;position: relative;}#sk-container-id-5 div.sk-item {position: relative;z-index: 1;}#sk-container-id-5 div.sk-parallel {display: flex;align-items: stretch;justify-content: center;background-color: white;position: relative;}#sk-container-id-5 div.sk-item::before, #sk-container-id-5 div.sk-parallel-item::before {content: \"\";position: absolute;border-left: 1px solid gray;box-sizing: border-box;top: 0;bottom: 0;left: 50%;z-index: -1;}#sk-container-id-5 div.sk-parallel-item {display: flex;flex-direction: column;z-index: 1;position: relative;background-color: white;}#sk-container-id-5 div.sk-parallel-item:first-child::after {align-self: flex-end;width: 50%;}#sk-container-id-5 div.sk-parallel-item:last-child::after {align-self: flex-start;width: 50%;}#sk-container-id-5 div.sk-parallel-item:only-child::after {width: 0;}#sk-container-id-5 div.sk-dashed-wrapped {border: 1px dashed gray;margin: 0 0.4em 0.5em 0.4em;box-sizing: border-box;padding-bottom: 0.4em;background-color: white;}#sk-container-id-5 div.sk-label label {font-family: monospace;font-weight: bold;display: inline-block;line-height: 1.2em;}#sk-container-id-5 div.sk-label-container {text-align: center;}#sk-container-id-5 div.sk-container {/* jupyter's `normalize.less` sets `[hidden] { display: none; }` but bootstrap.min.css set `[hidden] { display: none !important; }` so we also need the `!important` here to be able to override the default hidden behavior on the sphinx rendered scikit-learn.org. See: https://github.com/scikit-learn/scikit-learn/issues/21755 */display: inline-block !important;position: relative;}#sk-container-id-5 div.sk-text-repr-fallback {display: none;}</style><div id=\"sk-container-id-5\" class=\"sk-top-container\"><div class=\"sk-text-repr-fallback\"><pre>GridSearchCV(cv=3, estimator=KNeighborsClassifier(),\n",
       "             param_grid=[{&#x27;n_neighbors&#x27;: [1, 3, 5],\n",
       "                          &#x27;weights&#x27;: [&#x27;uniform&#x27;, &#x27;distance&#x27;]}],\n",
       "             scoring=&#x27;accuracy&#x27;, verbose=5)</pre><b>In a Jupyter environment, please rerun this cell to show the HTML representation or trust the notebook. <br />On GitHub, the HTML representation is unable to render, please try loading this page with nbviewer.org.</b></div><div class=\"sk-container\" hidden><div class=\"sk-item sk-dashed-wrapped\"><div class=\"sk-label-container\"><div class=\"sk-label sk-toggleable\"><input class=\"sk-toggleable__control sk-hidden--visually\" id=\"sk-estimator-id-13\" type=\"checkbox\" ><label for=\"sk-estimator-id-13\" class=\"sk-toggleable__label sk-toggleable__label-arrow\">GridSearchCV</label><div class=\"sk-toggleable__content\"><pre>GridSearchCV(cv=3, estimator=KNeighborsClassifier(),\n",
       "             param_grid=[{&#x27;n_neighbors&#x27;: [1, 3, 5],\n",
       "                          &#x27;weights&#x27;: [&#x27;uniform&#x27;, &#x27;distance&#x27;]}],\n",
       "             scoring=&#x27;accuracy&#x27;, verbose=5)</pre></div></div></div><div class=\"sk-parallel\"><div class=\"sk-parallel-item\"><div class=\"sk-item\"><div class=\"sk-label-container\"><div class=\"sk-label sk-toggleable\"><input class=\"sk-toggleable__control sk-hidden--visually\" id=\"sk-estimator-id-14\" type=\"checkbox\" ><label for=\"sk-estimator-id-14\" class=\"sk-toggleable__label sk-toggleable__label-arrow\">estimator: KNeighborsClassifier</label><div class=\"sk-toggleable__content\"><pre>KNeighborsClassifier()</pre></div></div></div><div class=\"sk-serial\"><div class=\"sk-item\"><div class=\"sk-estimator sk-toggleable\"><input class=\"sk-toggleable__control sk-hidden--visually\" id=\"sk-estimator-id-15\" type=\"checkbox\" ><label for=\"sk-estimator-id-15\" class=\"sk-toggleable__label sk-toggleable__label-arrow\">KNeighborsClassifier</label><div class=\"sk-toggleable__content\"><pre>KNeighborsClassifier()</pre></div></div></div></div></div></div></div></div></div></div>"
      ],
      "text/plain": [
       "GridSearchCV(cv=3, estimator=KNeighborsClassifier(),\n",
       "             param_grid=[{'n_neighbors': [1, 3, 5],\n",
       "                          'weights': ['uniform', 'distance']}],\n",
       "             scoring='accuracy', verbose=5)"
      ]
     },
     "execution_count": 122,
     "metadata": {},
     "output_type": "execute_result"
    }
   ],
   "source": [
    "grid_search_knn.fit(X_train, y_train)"
   ]
  },
  {
   "cell_type": "code",
   "execution_count": 123,
   "id": "eed07b13-67d9-4497-b81b-af9ead0a8a9d",
   "metadata": {
    "tags": []
   },
   "outputs": [
    {
     "data": {
      "text/plain": [
       "{'n_neighbors': 3, 'weights': 'distance'}"
      ]
     },
     "execution_count": 123,
     "metadata": {},
     "output_type": "execute_result"
    }
   ],
   "source": [
    "grid_search_knn.best_params_"
   ]
  },
  {
   "cell_type": "code",
   "execution_count": 124,
   "id": "d351e4db-5c08-490e-9819-c2b6c4e09350",
   "metadata": {
    "tags": []
   },
   "outputs": [
    {
     "data": {
      "text/plain": [
       "0.9693333333333333"
      ]
     },
     "execution_count": 124,
     "metadata": {},
     "output_type": "execute_result"
    }
   ],
   "source": [
    "grid_search_knn.best_score_"
   ]
  },
  {
   "cell_type": "code",
   "execution_count": 113,
   "id": "d4f23f59-509e-4570-99d7-4a66a5c891e4",
   "metadata": {
    "tags": []
   },
   "outputs": [],
   "source": [
    "params_set = {}\n",
    "mean_scores = grid_search_knn.cv_results_['mean_test_score']\n",
    "for p in grid_search_knn.cv_results_['params']:\n",
    "    \n",
    "    for k, v in p.items():\n",
    "        params_set[k] = params_set.get(k,[]) + [v]"
   ]
  },
  {
   "cell_type": "code",
   "execution_count": 114,
   "id": "31d4e7cf-486b-483f-9457-1b36f0ac2c0e",
   "metadata": {
    "tags": []
   },
   "outputs": [],
   "source": [
    "params_set['mean_score']=mean_scores"
   ]
  },
  {
   "cell_type": "code",
   "execution_count": 115,
   "id": "145b6689-d979-4a86-bd59-e92f2ba0e935",
   "metadata": {
    "tags": []
   },
   "outputs": [],
   "source": [
    "score_df = pd.DataFrame(params_set)"
   ]
  },
  {
   "cell_type": "code",
   "execution_count": 119,
   "id": "04671b5f-843b-4589-ad44-3b534b878175",
   "metadata": {
    "tags": []
   },
   "outputs": [
    {
     "data": {
      "text/plain": [
       "weights\n",
       "distance    0.966203\n",
       "uniform     0.964783\n",
       "Name: mean_score, dtype: float64"
      ]
     },
     "execution_count": 119,
     "metadata": {},
     "output_type": "execute_result"
    }
   ],
   "source": [
    "score_df.groupby(['weights'])['mean_score'].mean()"
   ]
  },
  {
   "cell_type": "code",
   "execution_count": 25,
   "id": "748b6a58-c756-4667-9dae-dcf57b674b7a",
   "metadata": {
    "tags": []
   },
   "outputs": [],
   "source": [
    "knn_opt_model = grid_search_knn.best_estimator_"
   ]
  },
  {
   "cell_type": "markdown",
   "id": "a8a24792-7f00-4244-86bf-79e54b035fb9",
   "metadata": {},
   "source": [
    "**RandomForest**"
   ]
  },
  {
   "cell_type": "code",
   "execution_count": 136,
   "id": "994e0f14-7fc4-44ec-ae20-14912134ca33",
   "metadata": {
    "tags": []
   },
   "outputs": [],
   "source": [
    "param_grid = [{'max_depth':[30,50,None]}]"
   ]
  },
  {
   "cell_type": "code",
   "execution_count": 137,
   "id": "9319b96e-79c5-4f56-8d05-07edf8b0ae95",
   "metadata": {},
   "outputs": [],
   "source": [
    "rf_model = RandomForestClassifier(random_state=123)"
   ]
  },
  {
   "cell_type": "code",
   "execution_count": 138,
   "id": "a5a4cb18-238e-4e68-a48f-0abab2eeb67a",
   "metadata": {
    "tags": []
   },
   "outputs": [],
   "source": [
    "grid_search_rf = GridSearchCV(rf_model, param_grid=param_grid, scoring='accuracy', cv=3, verbose=3)"
   ]
  },
  {
   "cell_type": "code",
   "execution_count": null,
   "id": "4971954b-c49b-40ea-8696-21e87e4c7e11",
   "metadata": {},
   "outputs": [],
   "source": [
    "grid_search_rf.fit(X_train, y_train)"
   ]
  },
  {
   "cell_type": "code",
   "execution_count": 111,
   "id": "b149ec51-3626-4ed9-aec7-be67cb3029c0",
   "metadata": {
    "tags": []
   },
   "outputs": [
    {
     "data": {
      "text/plain": [
       "{'max_depth': 30}"
      ]
     },
     "execution_count": 111,
     "metadata": {},
     "output_type": "execute_result"
    }
   ],
   "source": [
    "grid_search_rf.best_params_"
   ]
  },
  {
   "cell_type": "code",
   "execution_count": null,
   "id": "e113a7fb-8479-4410-8c1d-78cd37b95956",
   "metadata": {},
   "outputs": [],
   "source": []
  },
  {
   "cell_type": "markdown",
   "id": "8f117223-d82f-40e0-87da-c4bd45efe68e",
   "metadata": {
    "tags": []
   },
   "source": [
    "**SVM**"
   ]
  },
  {
   "cell_type": "code",
   "execution_count": 148,
   "id": "8d1e3db4-bce6-4e89-8231-511d0fca20b1",
   "metadata": {
    "tags": []
   },
   "outputs": [],
   "source": [
    "param_grid = {'C': [0.1, 1, 10, 100],\n",
    "              'kernel': ['rbf']} "
   ]
  },
  {
   "cell_type": "code",
   "execution_count": 145,
   "id": "b7f8b3f7-86f2-4de3-9ddb-6c538a7e10a1",
   "metadata": {
    "tags": []
   },
   "outputs": [],
   "source": [
    "svm_model = SVC(random_state=123)"
   ]
  },
  {
   "cell_type": "code",
   "execution_count": 146,
   "id": "4333836d-8943-4ad0-8f71-184857ecf64d",
   "metadata": {
    "tags": []
   },
   "outputs": [],
   "source": [
    "grid_search_rf = GridSearchCV(svm_model, param_grid=param_grid, scoring='accuracy', cv=3, verbose=3)"
   ]
  },
  {
   "cell_type": "code",
   "execution_count": 143,
   "id": "a3dd9239-9cd3-4964-9335-05e77563d670",
   "metadata": {
    "tags": []
   },
   "outputs": [
    {
     "name": "stdout",
     "output_type": "stream",
     "text": [
      "Fitting 3 folds for each of 4 candidates, totalling 12 fits\n",
      "[CV 1/3] END .................C=0.1, kernel=rbf;, score=0.953 total time= 9.6min\n",
      "[CV 2/3] END .................C=0.1, kernel=rbf;, score=0.950 total time= 9.1min\n",
      "[CV 3/3] END .................C=0.1, kernel=rbf;, score=0.953 total time=10.6min\n",
      "[CV 1/3] END ...................C=1, kernel=rbf;, score=0.977 total time= 5.1min\n",
      "[CV 2/3] END ...................C=1, kernel=rbf;, score=0.974 total time= 4.9min\n",
      "[CV 3/3] END ...................C=1, kernel=rbf;, score=0.974 total time= 5.1min\n",
      "[CV 1/3] END ..................C=10, kernel=rbf;, score=0.982 total time= 4.8min\n",
      "[CV 2/3] END ..................C=10, kernel=rbf;, score=0.979 total time= 4.6min\n",
      "[CV 3/3] END ..................C=10, kernel=rbf;, score=0.979 total time= 4.6min\n",
      "[CV 1/3] END .................C=100, kernel=rbf;, score=0.982 total time= 4.6min\n",
      "[CV 2/3] END .................C=100, kernel=rbf;, score=0.979 total time= 5.6min\n",
      "[CV 3/3] END .................C=100, kernel=rbf;, score=0.979 total time= 4.6min\n"
     ]
    },
    {
     "data": {
      "text/html": [
       "<style>#sk-container-id-6 {color: black;background-color: white;}#sk-container-id-6 pre{padding: 0;}#sk-container-id-6 div.sk-toggleable {background-color: white;}#sk-container-id-6 label.sk-toggleable__label {cursor: pointer;display: block;width: 100%;margin-bottom: 0;padding: 0.3em;box-sizing: border-box;text-align: center;}#sk-container-id-6 label.sk-toggleable__label-arrow:before {content: \"▸\";float: left;margin-right: 0.25em;color: #696969;}#sk-container-id-6 label.sk-toggleable__label-arrow:hover:before {color: black;}#sk-container-id-6 div.sk-estimator:hover label.sk-toggleable__label-arrow:before {color: black;}#sk-container-id-6 div.sk-toggleable__content {max-height: 0;max-width: 0;overflow: hidden;text-align: left;background-color: #f0f8ff;}#sk-container-id-6 div.sk-toggleable__content pre {margin: 0.2em;color: black;border-radius: 0.25em;background-color: #f0f8ff;}#sk-container-id-6 input.sk-toggleable__control:checked~div.sk-toggleable__content {max-height: 200px;max-width: 100%;overflow: auto;}#sk-container-id-6 input.sk-toggleable__control:checked~label.sk-toggleable__label-arrow:before {content: \"▾\";}#sk-container-id-6 div.sk-estimator input.sk-toggleable__control:checked~label.sk-toggleable__label {background-color: #d4ebff;}#sk-container-id-6 div.sk-label input.sk-toggleable__control:checked~label.sk-toggleable__label {background-color: #d4ebff;}#sk-container-id-6 input.sk-hidden--visually {border: 0;clip: rect(1px 1px 1px 1px);clip: rect(1px, 1px, 1px, 1px);height: 1px;margin: -1px;overflow: hidden;padding: 0;position: absolute;width: 1px;}#sk-container-id-6 div.sk-estimator {font-family: monospace;background-color: #f0f8ff;border: 1px dotted black;border-radius: 0.25em;box-sizing: border-box;margin-bottom: 0.5em;}#sk-container-id-6 div.sk-estimator:hover {background-color: #d4ebff;}#sk-container-id-6 div.sk-parallel-item::after {content: \"\";width: 100%;border-bottom: 1px solid gray;flex-grow: 1;}#sk-container-id-6 div.sk-label:hover label.sk-toggleable__label {background-color: #d4ebff;}#sk-container-id-6 div.sk-serial::before {content: \"\";position: absolute;border-left: 1px solid gray;box-sizing: border-box;top: 0;bottom: 0;left: 50%;z-index: 0;}#sk-container-id-6 div.sk-serial {display: flex;flex-direction: column;align-items: center;background-color: white;padding-right: 0.2em;padding-left: 0.2em;position: relative;}#sk-container-id-6 div.sk-item {position: relative;z-index: 1;}#sk-container-id-6 div.sk-parallel {display: flex;align-items: stretch;justify-content: center;background-color: white;position: relative;}#sk-container-id-6 div.sk-item::before, #sk-container-id-6 div.sk-parallel-item::before {content: \"\";position: absolute;border-left: 1px solid gray;box-sizing: border-box;top: 0;bottom: 0;left: 50%;z-index: -1;}#sk-container-id-6 div.sk-parallel-item {display: flex;flex-direction: column;z-index: 1;position: relative;background-color: white;}#sk-container-id-6 div.sk-parallel-item:first-child::after {align-self: flex-end;width: 50%;}#sk-container-id-6 div.sk-parallel-item:last-child::after {align-self: flex-start;width: 50%;}#sk-container-id-6 div.sk-parallel-item:only-child::after {width: 0;}#sk-container-id-6 div.sk-dashed-wrapped {border: 1px dashed gray;margin: 0 0.4em 0.5em 0.4em;box-sizing: border-box;padding-bottom: 0.4em;background-color: white;}#sk-container-id-6 div.sk-label label {font-family: monospace;font-weight: bold;display: inline-block;line-height: 1.2em;}#sk-container-id-6 div.sk-label-container {text-align: center;}#sk-container-id-6 div.sk-container {/* jupyter's `normalize.less` sets `[hidden] { display: none; }` but bootstrap.min.css set `[hidden] { display: none !important; }` so we also need the `!important` here to be able to override the default hidden behavior on the sphinx rendered scikit-learn.org. See: https://github.com/scikit-learn/scikit-learn/issues/21755 */display: inline-block !important;position: relative;}#sk-container-id-6 div.sk-text-repr-fallback {display: none;}</style><div id=\"sk-container-id-6\" class=\"sk-top-container\"><div class=\"sk-text-repr-fallback\"><pre>GridSearchCV(cv=3, estimator=SVC(random_state=123),\n",
       "             param_grid={&#x27;C&#x27;: [0.1, 1, 10, 100], &#x27;kernel&#x27;: [&#x27;rbf&#x27;]},\n",
       "             scoring=&#x27;accuracy&#x27;, verbose=3)</pre><b>In a Jupyter environment, please rerun this cell to show the HTML representation or trust the notebook. <br />On GitHub, the HTML representation is unable to render, please try loading this page with nbviewer.org.</b></div><div class=\"sk-container\" hidden><div class=\"sk-item sk-dashed-wrapped\"><div class=\"sk-label-container\"><div class=\"sk-label sk-toggleable\"><input class=\"sk-toggleable__control sk-hidden--visually\" id=\"sk-estimator-id-16\" type=\"checkbox\" ><label for=\"sk-estimator-id-16\" class=\"sk-toggleable__label sk-toggleable__label-arrow\">GridSearchCV</label><div class=\"sk-toggleable__content\"><pre>GridSearchCV(cv=3, estimator=SVC(random_state=123),\n",
       "             param_grid={&#x27;C&#x27;: [0.1, 1, 10, 100], &#x27;kernel&#x27;: [&#x27;rbf&#x27;]},\n",
       "             scoring=&#x27;accuracy&#x27;, verbose=3)</pre></div></div></div><div class=\"sk-parallel\"><div class=\"sk-parallel-item\"><div class=\"sk-item\"><div class=\"sk-label-container\"><div class=\"sk-label sk-toggleable\"><input class=\"sk-toggleable__control sk-hidden--visually\" id=\"sk-estimator-id-17\" type=\"checkbox\" ><label for=\"sk-estimator-id-17\" class=\"sk-toggleable__label sk-toggleable__label-arrow\">estimator: SVC</label><div class=\"sk-toggleable__content\"><pre>SVC(random_state=123)</pre></div></div></div><div class=\"sk-serial\"><div class=\"sk-item\"><div class=\"sk-estimator sk-toggleable\"><input class=\"sk-toggleable__control sk-hidden--visually\" id=\"sk-estimator-id-18\" type=\"checkbox\" ><label for=\"sk-estimator-id-18\" class=\"sk-toggleable__label sk-toggleable__label-arrow\">SVC</label><div class=\"sk-toggleable__content\"><pre>SVC(random_state=123)</pre></div></div></div></div></div></div></div></div></div></div>"
      ],
      "text/plain": [
       "GridSearchCV(cv=3, estimator=SVC(random_state=123),\n",
       "             param_grid={'C': [0.1, 1, 10, 100], 'kernel': ['rbf']},\n",
       "             scoring='accuracy', verbose=3)"
      ]
     },
     "execution_count": 143,
     "metadata": {},
     "output_type": "execute_result"
    }
   ],
   "source": [
    "grid_search_rf.fit(X_train,y_train)"
   ]
  },
  {
   "cell_type": "code",
   "execution_count": 7,
   "id": "eb161d19-7332-4620-a1cd-96f249ec0c80",
   "metadata": {
    "tags": []
   },
   "outputs": [
    {
     "ename": "NameError",
     "evalue": "name 'SVC' is not defined",
     "output_type": "error",
     "traceback": [
      "\u001b[1;31m---------------------------------------------------------------------------\u001b[0m",
      "\u001b[1;31mNameError\u001b[0m                                 Traceback (most recent call last)",
      "Cell \u001b[1;32mIn[7], line 1\u001b[0m\n\u001b[1;32m----> 1\u001b[0m svm_model_opt \u001b[38;5;241m=\u001b[39m \u001b[43mSVC\u001b[49m(random_state\u001b[38;5;241m=\u001b[39m\u001b[38;5;241m123\u001b[39m, C\u001b[38;5;241m=\u001b[39m\u001b[38;5;241m10\u001b[39m)\n",
      "\u001b[1;31mNameError\u001b[0m: name 'SVC' is not defined"
     ]
    }
   ],
   "source": [
    "svm_model_opt = SVC(random_state=123, C=10)"
   ]
  },
  {
   "cell_type": "code",
   "execution_count": 152,
   "id": "fe99db9c-c3c1-4415-bdaa-aecb8e6d5bac",
   "metadata": {
    "tags": []
   },
   "outputs": [],
   "source": [
    "y_train_pred = cross_val_predict(svm_model_opt, X_train, y_train)"
   ]
  },
  {
   "cell_type": "code",
   "execution_count": 153,
   "id": "8c65814f-32ec-40ec-9803-68dde2f15e64",
   "metadata": {
    "tags": []
   },
   "outputs": [],
   "source": [
    "from sklearn.metrics import accuracy_score"
   ]
  },
  {
   "cell_type": "code",
   "execution_count": 159,
   "id": "65038da1-4467-4e05-a050-ebb8425915a4",
   "metadata": {
    "tags": []
   },
   "outputs": [
    {
     "data": {
      "text/plain": [
       "0.9819333333333333"
      ]
     },
     "execution_count": 159,
     "metadata": {},
     "output_type": "execute_result"
    }
   ],
   "source": [
    "accuracy_score(y_train, y_train_pred)"
   ]
  },
  {
   "cell_type": "code",
   "execution_count": 15,
   "id": "843705be-75fe-4c92-81db-7da755f4bd7c",
   "metadata": {
    "tags": []
   },
   "outputs": [],
   "source": [
    "from sklearn.metrics import classification_report"
   ]
  },
  {
   "cell_type": "code",
   "execution_count": null,
   "id": "7d572385-08c4-468b-b3ee-12244089fedf",
   "metadata": {
    "tags": []
   },
   "outputs": [],
   "source": [
    "print(classification_report(y_train, y_train_pred))"
   ]
  },
  {
   "cell_type": "code",
   "execution_count": 11,
   "id": "bd396472-8394-4aa4-84eb-a505c26dc9d9",
   "metadata": {
    "tags": []
   },
   "outputs": [],
   "source": [
    "from sklearn.metrics import ConfusionMatrixDisplay"
   ]
  },
  {
   "cell_type": "code",
   "execution_count": 189,
   "id": "cdcd0171-d645-4aeb-9104-ae1361296c3d",
   "metadata": {
    "tags": []
   },
   "outputs": [
    {
     "data": {
      "image/png": "[encoded data removed]",
      "text/plain": [
       "<Figure size 640x480 with 2 Axes>"
      ]
     },
     "metadata": {},
     "output_type": "display_data"
    }
   ],
   "source": [
    "ConfusionMatrixDisplay.from_predictions(y_train, y_train_pred)\n",
    "plt.show()"
   ]
  },
  {
   "cell_type": "markdown",
   "id": "b9ef82f1-77b7-4f0d-b8ba-e07c4dc301a4",
   "metadata": {
    "tags": []
   },
   "source": [
    "**To highlight the the errors, set the weights of correclty predicted values to zero**"
   ]
  },
  {
   "cell_type": "code",
   "execution_count": 190,
   "id": "11af658a-d2ae-4e89-a44c-afcbf29051f3",
   "metadata": {
    "tags": []
   },
   "outputs": [],
   "source": [
    "weights = y_train != y_train_pred"
   ]
  },
  {
   "cell_type": "code",
   "execution_count": 1,
   "id": "54e92ac9-bef6-4b82-9732-1c6351c7f024",
   "metadata": {
    "tags": []
   },
   "outputs": [
    {
     "ename": "NameError",
     "evalue": "name 'ConfusionMatrixDisplay' is not defined",
     "output_type": "error",
     "traceback": [
      "\u001b[1;31m---------------------------------------------------------------------------\u001b[0m",
      "\u001b[1;31mNameError\u001b[0m                                 Traceback (most recent call last)",
      "Cell \u001b[1;32mIn[1], line 1\u001b[0m\n\u001b[1;32m----> 1\u001b[0m \u001b[43mConfusionMatrixDisplay\u001b[49m\u001b[38;5;241m.\u001b[39mfrom_predictions(y_train, y_train_pred,sample_weight\u001b[38;5;241m=\u001b[39mweights)\n\u001b[0;32m      2\u001b[0m plt\u001b[38;5;241m.\u001b[39mshow()\n",
      "\u001b[1;31mNameError\u001b[0m: name 'ConfusionMatrixDisplay' is not defined"
     ]
    }
   ],
   "source": [
    "ConfusionMatrixDisplay.from_predictions(y_train, y_train_pred,sample_weight=weights)\n",
    "plt.show()"
   ]
  },
  {
   "cell_type": "markdown",
   "id": "754102cf-d86b-4752-a6a4-f8f039bd8acd",
   "metadata": {},
   "source": [
    "**Get the percentages of errors out of all**"
   ]
  },
  {
   "cell_type": "code",
   "execution_count": 188,
   "id": "c13a4bbb-0465-44cf-9c26-ae11c442feec",
   "metadata": {
    "tags": []
   },
   "outputs": [
    {
     "data": {
      "image/png": "[encoded data removed]",
      "text/plain": [
       "<Figure size 640x480 with 2 Axes>"
      ]
     },
     "metadata": {},
     "output_type": "display_data"
    }
   ],
   "source": [
    "ConfusionMatrixDisplay.from_predictions(y_train, y_train_pred, normalize='all', values_format='.0%',sample_weight=weights)\n",
    "plt.show()"
   ]
  },
  {
   "cell_type": "markdown",
   "id": "d3d0c953-1839-43bb-ba1c-ec61d51e6fe1",
   "metadata": {},
   "source": [
    "**Top errors the model makes:**\n",
    "- Images of 9, predicting as 4\n",
    "- Images of 3, predicting as 2\n",
    "- Images of 5, predicting as 3"
   ]
  },
  {
   "cell_type": "code",
   "execution_count": 219,
   "id": "8c59da27-32db-4622-b05f-9738bfb0aae4",
   "metadata": {
    "tags": []
   },
   "outputs": [],
   "source": [
    "X_94 = X_train[(y_train=='9') & (y_train_pred=='4')]\n",
    "X_99 = X_train[(y_train=='9') & (y_train_pred=='9')]\n",
    "X_49 = X_train[(y_train=='4') & (y_train_pred=='9')]\n",
    "X_44 = X_train[(y_train=='4') & (y_train_pred=='4')]\n",
    "X_32 = X_train[(y_train=='3') & (y_train_pred=='2')]\n",
    "X_53 = X_train[(y_train=='5') & (y_train_pred=='3')]\n",
    "X_35 = X_train[(y_train=='3') & (y_train_pred=='5')]"
   ]
  },
  {
   "cell_type": "code",
   "execution_count": 194,
   "id": "f4156928-54e1-47b6-982e-42ed6eb46302",
   "metadata": {
    "tags": []
   },
   "outputs": [
    {
     "data": {
      "text/plain": [
       "(50, 784)"
      ]
     },
     "execution_count": 194,
     "metadata": {},
     "output_type": "execute_result"
    }
   ],
   "source": [
    "X_94.shape"
   ]
  },
  {
   "cell_type": "code",
   "execution_count": 55,
   "id": "bfe7f123-932c-4991-8904-30cd0c00a070",
   "metadata": {
    "tags": []
   },
   "outputs": [],
   "source": [
    "def plot_100digits(digits):\n",
    "    l = digits.shape[0]\n",
    "    h = min(4,np.ceil((l//10 +1)*4/10))\n",
    "    print(h)\n",
    "    fig, ax = plt.subplots(nrows=min(10,l//10+2), ncols=10, figsize=(4,h))\n",
    "    for i in range(min(100, 10*(l//10+2))):\n",
    "        if i<l:\n",
    "            im = digits[i].reshape(28,28)\n",
    "            ax[i//10,i%10].imshow(im, cmap=\"gray\")\n",
    "        ax[i//10,i%10].axis('off')"
   ]
  },
  {
   "cell_type": "code",
   "execution_count": null,
   "id": "9acb876b-b0ab-4f1d-8a90-e414554838fe",
   "metadata": {
    "scrolled": true,
    "tags": []
   },
   "outputs": [],
   "source": [
    "plot_100digits(X_32)"
   ]
  },
  {
   "cell_type": "code",
   "execution_count": 220,
   "id": "f9760ee5-1888-4a75-b108-b5aaefdae1b9",
   "metadata": {
    "tags": []
   },
   "outputs": [
    {
     "data": {
      "image/png": "[encoded data removed]",
      "text/plain": [
       "<Figure size 400x400 with 40 Axes>"
      ]
     },
     "metadata": {},
     "output_type": "display_data"
    }
   ],
   "source": [
    "plot_100digits(X_35)"
   ]
  },
  {
   "cell_type": "code",
   "execution_count": 9,
   "id": "dc904067-f5c9-4c7f-b3ac-f984165d6bcd",
   "metadata": {
    "tags": []
   },
   "outputs": [
    {
     "name": "stdout",
     "output_type": "stream",
     "text": [
      "[LibSVM]"
     ]
    },
    {
     "data": {
      "text/html": [
       "<style>#sk-container-id-1 {color: black;background-color: white;}#sk-container-id-1 pre{padding: 0;}#sk-container-id-1 div.sk-toggleable {background-color: white;}#sk-container-id-1 label.sk-toggleable__label {cursor: pointer;display: block;width: 100%;margin-bottom: 0;padding: 0.3em;box-sizing: border-box;text-align: center;}#sk-container-id-1 label.sk-toggleable__label-arrow:before {content: \"▸\";float: left;margin-right: 0.25em;color: #696969;}#sk-container-id-1 label.sk-toggleable__label-arrow:hover:before {color: black;}#sk-container-id-1 div.sk-estimator:hover label.sk-toggleable__label-arrow:before {color: black;}#sk-container-id-1 div.sk-toggleable__content {max-height: 0;max-width: 0;overflow: hidden;text-align: left;background-color: #f0f8ff;}#sk-container-id-1 div.sk-toggleable__content pre {margin: 0.2em;color: black;border-radius: 0.25em;background-color: #f0f8ff;}#sk-container-id-1 input.sk-toggleable__control:checked~div.sk-toggleable__content {max-height: 200px;max-width: 100%;overflow: auto;}#sk-container-id-1 input.sk-toggleable__control:checked~label.sk-toggleable__label-arrow:before {content: \"▾\";}#sk-container-id-1 div.sk-estimator input.sk-toggleable__control:checked~label.sk-toggleable__label {background-color: #d4ebff;}#sk-container-id-1 div.sk-label input.sk-toggleable__control:checked~label.sk-toggleable__label {background-color: #d4ebff;}#sk-container-id-1 input.sk-hidden--visually {border: 0;clip: rect(1px 1px 1px 1px);clip: rect(1px, 1px, 1px, 1px);height: 1px;margin: -1px;overflow: hidden;padding: 0;position: absolute;width: 1px;}#sk-container-id-1 div.sk-estimator {font-family: monospace;background-color: #f0f8ff;border: 1px dotted black;border-radius: 0.25em;box-sizing: border-box;margin-bottom: 0.5em;}#sk-container-id-1 div.sk-estimator:hover {background-color: #d4ebff;}#sk-container-id-1 div.sk-parallel-item::after {content: \"\";width: 100%;border-bottom: 1px solid gray;flex-grow: 1;}#sk-container-id-1 div.sk-label:hover label.sk-toggleable__label {background-color: #d4ebff;}#sk-container-id-1 div.sk-serial::before {content: \"\";position: absolute;border-left: 1px solid gray;box-sizing: border-box;top: 0;bottom: 0;left: 50%;z-index: 0;}#sk-container-id-1 div.sk-serial {display: flex;flex-direction: column;align-items: center;background-color: white;padding-right: 0.2em;padding-left: 0.2em;position: relative;}#sk-container-id-1 div.sk-item {position: relative;z-index: 1;}#sk-container-id-1 div.sk-parallel {display: flex;align-items: stretch;justify-content: center;background-color: white;position: relative;}#sk-container-id-1 div.sk-item::before, #sk-container-id-1 div.sk-parallel-item::before {content: \"\";position: absolute;border-left: 1px solid gray;box-sizing: border-box;top: 0;bottom: 0;left: 50%;z-index: -1;}#sk-container-id-1 div.sk-parallel-item {display: flex;flex-direction: column;z-index: 1;position: relative;background-color: white;}#sk-container-id-1 div.sk-parallel-item:first-child::after {align-self: flex-end;width: 50%;}#sk-container-id-1 div.sk-parallel-item:last-child::after {align-self: flex-start;width: 50%;}#sk-container-id-1 div.sk-parallel-item:only-child::after {width: 0;}#sk-container-id-1 div.sk-dashed-wrapped {border: 1px dashed gray;margin: 0 0.4em 0.5em 0.4em;box-sizing: border-box;padding-bottom: 0.4em;background-color: white;}#sk-container-id-1 div.sk-label label {font-family: monospace;font-weight: bold;display: inline-block;line-height: 1.2em;}#sk-container-id-1 div.sk-label-container {text-align: center;}#sk-container-id-1 div.sk-container {/* jupyter's `normalize.less` sets `[hidden] { display: none; }` but bootstrap.min.css set `[hidden] { display: none !important; }` so we also need the `!important` here to be able to override the default hidden behavior on the sphinx rendered scikit-learn.org. See: https://github.com/scikit-learn/scikit-learn/issues/21755 */display: inline-block !important;position: relative;}#sk-container-id-1 div.sk-text-repr-fallback {display: none;}</style><div id=\"sk-container-id-1\" class=\"sk-top-container\"><div class=\"sk-text-repr-fallback\"><pre>SVC(C=10, random_state=123, verbose=5)</pre><b>In a Jupyter environment, please rerun this cell to show the HTML representation or trust the notebook. <br />On GitHub, the HTML representation is unable to render, please try loading this page with nbviewer.org.</b></div><div class=\"sk-container\" hidden><div class=\"sk-item\"><div class=\"sk-estimator sk-toggleable\"><input class=\"sk-toggleable__control sk-hidden--visually\" id=\"sk-estimator-id-1\" type=\"checkbox\" checked><label for=\"sk-estimator-id-1\" class=\"sk-toggleable__label sk-toggleable__label-arrow\">SVC</label><div class=\"sk-toggleable__content\"><pre>SVC(C=10, random_state=123, verbose=5)</pre></div></div></div></div></div>"
      ],
      "text/plain": [
       "SVC(C=10, random_state=123, verbose=5)"
      ]
     },
     "execution_count": 9,
     "metadata": {},
     "output_type": "execute_result"
    }
   ],
   "source": [
    "svm_model_opt = SVC(random_state=123, C=10, verbose=5)\n",
    "svm_model_opt.fit(X_train,y_train)"
   ]
  },
  {
   "cell_type": "code",
   "execution_count": null,
   "id": "dfb0a4b6-8a3e-4a3e-ba9c-d1887cd04bd1",
   "metadata": {
    "tags": []
   },
   "outputs": [],
   "source": [
    "y_train_pred = svm_model_opt.predict(X_train)"
   ]
  },
  {
   "cell_type": "code",
   "execution_count": 16,
   "id": "f520058c-5b07-4201-a98d-211d3739a694",
   "metadata": {
    "tags": []
   },
   "outputs": [
    {
     "name": "stdout",
     "output_type": "stream",
     "text": [
      "              precision    recall  f1-score   support\n",
      "\n",
      "           0       1.00      1.00      1.00      5923\n",
      "           1       1.00      1.00      1.00      6742\n",
      "           2       1.00      1.00      1.00      5958\n",
      "           3       1.00      1.00      1.00      6131\n",
      "           4       1.00      1.00      1.00      5842\n",
      "           5       1.00      1.00      1.00      5421\n",
      "           6       1.00      1.00      1.00      5918\n",
      "           7       1.00      1.00      1.00      6265\n",
      "           8       1.00      1.00      1.00      5851\n",
      "           9       1.00      1.00      1.00      5949\n",
      "\n",
      "    accuracy                           1.00     60000\n",
      "   macro avg       1.00      1.00      1.00     60000\n",
      "weighted avg       1.00      1.00      1.00     60000\n",
      "\n"
     ]
    }
   ],
   "source": [
    "print(classification_report(y_train, y_train_pred))"
   ]
  },
  {
   "cell_type": "code",
   "execution_count": null,
   "id": "fef09cbc-a973-44ae-af11-c2f31e7c42bf",
   "metadata": {},
   "outputs": [],
   "source": [
    "with open('./models/svm_model.pkl', 'wb') as f:\n",
    "    pickle.dump(svm_model_opt,f)"
   ]
  },
  {
   "cell_type": "code",
   "execution_count": 13,
   "id": "9d131125-9547-4cec-b654-4ee63b9aad62",
   "metadata": {
    "tags": []
   },
   "outputs": [],
   "source": [
    "y_test_pred = svm_model_opt.predict(X_test)"
   ]
  },
  {
   "cell_type": "code",
   "execution_count": 17,
   "id": "c763c1e0-a2b5-4286-b8fe-4ee32db13591",
   "metadata": {},
   "outputs": [
    {
     "name": "stdout",
     "output_type": "stream",
     "text": [
      "              precision    recall  f1-score   support\n",
      "\n",
      "           0       0.98      0.99      0.99       980\n",
      "           1       0.99      0.99      0.99      1135\n",
      "           2       0.98      0.98      0.98      1032\n",
      "           3       0.98      0.99      0.98      1010\n",
      "           4       0.98      0.98      0.98       982\n",
      "           5       0.99      0.98      0.98       892\n",
      "           6       0.99      0.99      0.99       958\n",
      "           7       0.98      0.98      0.98      1028\n",
      "           8       0.98      0.98      0.98       974\n",
      "           9       0.98      0.97      0.97      1009\n",
      "\n",
      "    accuracy                           0.98     10000\n",
      "   macro avg       0.98      0.98      0.98     10000\n",
      "weighted avg       0.98      0.98      0.98     10000\n",
      "\n"
     ]
    }
   ],
   "source": [
    "print(classification_report(y_test, y_test_pred))"
   ]
  },
  {
   "cell_type": "code",
   "execution_count": 18,
   "id": "1ad4c276-9890-4818-b9e6-ed4f1cb17b6f",
   "metadata": {},
   "outputs": [
    {
     "data": {
      "image/png": "[encoded data removed]",
      "text/plain": [
       "<Figure size 640x480 with 2 Axes>"
      ]
     },
     "metadata": {},
     "output_type": "display_data"
    }
   ],
   "source": [
    "ConfusionMatrixDisplay.from_predictions(y_test, y_test_pred)\n",
    "plt.show()"
   ]
  },
  {
   "cell_type": "code",
   "execution_count": 19,
   "id": "eae9295e-c5f5-4580-9251-571a1054a823",
   "metadata": {},
   "outputs": [],
   "source": [
    "weights = y_test != y_test_pred"
   ]
  },
  {
   "cell_type": "code",
   "execution_count": 23,
   "id": "6b497f48-1743-4440-be92-aa39d0259066",
   "metadata": {},
   "outputs": [
    {
     "data": {
      "image/png": "[encoded data removed]",
      "text/plain": [
       "<Figure size 640x480 with 2 Axes>"
      ]
     },
     "metadata": {},
     "output_type": "display_data"
    }
   ],
   "source": [
    "ConfusionMatrixDisplay.from_predictions(y_test, y_test_pred,sample_weight= weights)\n",
    "plt.show()"
   ]
  },
  {
   "cell_type": "code",
   "execution_count": 27,
   "id": "357ea3f0-a2bf-45a9-8330-90612f135726",
   "metadata": {},
   "outputs": [],
   "source": [
    "X_94 = X_test[(y_test=='9') & (y_test_pred=='4')]\n",
    "X_49 = X_test[(y_test=='4') & (y_test_pred=='9')]\n",
    "X_72 = X_test[(y_test=='7') & (y_test_pred=='2')]"
   ]
  },
  {
   "cell_type": "code",
   "execution_count": 29,
   "id": "b26ba8dc-c78e-432b-9ec0-6d8bcbc8975e",
   "metadata": {},
   "outputs": [
    {
     "data": {
      "text/plain": [
       "9"
      ]
     },
     "execution_count": 29,
     "metadata": {},
     "output_type": "execute_result"
    }
   ],
   "source": [
    "len(X_94)"
   ]
  },
  {
   "cell_type": "code",
   "execution_count": 57,
   "id": "346390c4-4e6d-45d1-a951-a15734f167cc",
   "metadata": {},
   "outputs": [
    {
     "name": "stdout",
     "output_type": "stream",
     "text": [
      "1.0\n"
     ]
    },
    {
     "data": {
      "image/png": "[encoded data removed]",
      "text/plain": [
       "<Figure size 400x100 with 20 Axes>"
      ]
     },
     "metadata": {},
     "output_type": "display_data"
    }
   ],
   "source": [
    "plot_100digits(X_94)"
   ]
  },
  {
   "cell_type": "code",
   "execution_count": 56,
   "id": "a690b94d-854e-4d85-b4ef-4e6cc4b73b6f",
   "metadata": {},
   "outputs": [
    {
     "name": "stdout",
     "output_type": "stream",
     "text": [
      "1.0\n"
     ]
    },
    {
     "data": {
      "image/png": "[encoded data removed]",
      "text/plain": [
       "<Figure size 400x100 with 30 Axes>"
      ]
     },
     "metadata": {},
     "output_type": "display_data"
    }
   ],
   "source": [
    "plot_100digits(X_49)"
   ]
  },
  {
   "cell_type": "code",
   "execution_count": 66,
   "id": "89a43a96-885f-44ae-be89-0d3271f73e29",
   "metadata": {},
   "outputs": [],
   "source": [
    "np.set_printoptions(linewidth=125) "
   ]
  },
  {
   "cell_type": "code",
   "execution_count": 70,
   "id": "b10566ff-64a2-4c95-8576-7cc895833e7f",
   "metadata": {},
   "outputs": [
    {
     "name": "stdout",
     "output_type": "stream",
     "text": [
      "[[  0   0   0   0   0   0   0   0   0   0   0   0   0   0   0   0   0   0   0   0   0   0   0   0   0   0   0   0]\n",
      " [  0   0   0   0   0   0   0   0   0   0   0   0   0   0   0   0   0   0   0   0   0   0   0   0   0   0   0   0]\n",
      " [  0   0   0   0   0   0   0   0   0   0   0   0   0   0   0   0   0   0   0   0   0   0   0   0   0   0   0   0]\n",
      " [  0   0   0   0   0   0   0   0   0   0   0   0   0   0   0   0   0   0   0   0   0   0   0   0   0   0   0   0]\n",
      " [  0   0   0   0   0   0   0   0   0   0   0  42 118 219 166 118 118   6   0   0   0   0   0   0   0   0   0   0]\n",
      " [  0   0   0   0   0   0   0   0   0   0 103 242 254 254 254 254 254  66   0   0   0   0   0   0   0   0   0   0]\n",
      " [  0   0   0   0   0   0   0   0   0   0  18 232 254 254 254 254 254 238  70   0   0   0   0   0   0   0   0   0]\n",
      " [  0   0   0   0   0   0   0   0   0   0   0 104 244 254 224 254 254 254 141   0   0   0   0   0   0   0   0   0]\n",
      " [  0   0   0   0   0   0   0   0   0   0   0   0 207 254 210 254 254 254  34   0   0   0   0   0   0   0   0   0]\n",
      " [  0   0   0   0   0   0   0   0   0   0   0   0  84 206 254 254 254 254  41   0   0   0   0   0   0   0   0   0]\n",
      " [  0   0   0   0   0   0   0   0   0   0   0   0   0  24 209 254 254 254 171   0   0   0   0   0   0   0   0   0]\n",
      " [  0   0   0   0   0   0   0   0   0   0   0   0  91 137 253 254 254 254 112   0   0   0   0   0   0   0   0   0]\n",
      " [  0   0   0   0   0   0   0   0   0   0  40 214 250 254 254 254 254 254  34   0   0   0   0   0   0   0   0   0]\n",
      " [  0   0   0   0   0   0   0   0   0   0  81 247 254 254 254 254 254 254 146   0   0   0   0   0   0   0   0   0]\n",
      " [  0   0   0   0   0   0   0   0   0   0   0 110 246 254 254 254 254 254 171   0   0   0   0   0   0   0   0   0]\n",
      " [  0   0   0   0   0   0   0   0   0   0   0   0  73  89  89  93 240 254 171   0   0   0   0   0   0   0   0   0]\n",
      " [  0   0   0   0   0   0   0   0   0   0   0   0   0   0   0   1 128 254 219  31   0   0   0   0   0   0   0   0]\n",
      " [  0   0   0   0   0   0   0   0   0   0   0   0   0   0   0   7 254 254 214  28   0   0   0   0   0   0   0   0]\n",
      " [  0   0   0   0   0   0   0   0   0   0   0   0   0   0   0 138 254 254 116   0   0   0   0   0   0   0   0   0]\n",
      " [  0   0   0   0   0   0  19 177  90   0   0   0   0   0  25 240 254 254  34   0   0   0   0   0   0   0   0   0]\n",
      " [  0   0   0   0   0   0 164 254 215  63  36   0  51  89 206 254 254 139   8   0   0   0   0   0   0   0   0   0]\n",
      " [  0   0   0   0   0   0  57 197 254 254 222 180 241 254 254 253 213  11   0   0   0   0   0   0   0   0   0   0]\n",
      " [  0   0   0   0   0   0   0 140 105 254 254 254 254 254 254 236   0   0   0   0   0   0   0   0   0   0   0   0]\n",
      " [  0   0   0   0   0   0   0   0   7 117 117 165 254 254 239  50   0   0   0   0   0   0   0   0   0   0   0   0]\n",
      " [  0   0   0   0   0   0   0   0   0   0   0   0   0   0   0   0   0   0   0   0   0   0   0   0   0   0   0   0]\n",
      " [  0   0   0   0   0   0   0   0   0   0   0   0   0   0   0   0   0   0   0   0   0   0   0   0   0   0   0   0]\n",
      " [  0   0   0   0   0   0   0   0   0   0   0   0   0   0   0   0   0   0   0   0   0   0   0   0   0   0   0   0]\n",
      " [  0   0   0   0   0   0   0   0   0   0   0   0   0   0   0   0   0   0   0   0   0   0   0   0   0   0   0   0]]\n"
     ]
    }
   ],
   "source": [
    "print(X_train[10].reshape(28,28))"
   ]
  },
  {
   "cell_type": "code",
   "execution_count": null,
   "id": "fbeaaf80-9591-49da-a322-167e476d8a67",
   "metadata": {},
   "outputs": [],
   "source": []
  }
 ],
 "metadata": {
  "kernelspec": {
   "display_name": "Python 3 (ipykernel)",
   "language": "python",
   "name": "python3"
  },
  "language_info": {
   "codemirror_mode": {
    "name": "ipython",
    "version": 3
   },
   "file_extension": ".py",
   "mimetype": "text/x-python",
   "name": "python",
   "nbconvert_exporter": "python",
   "pygments_lexer": "ipython3",
   "version": "3.11.2"
  }
 },
 "nbformat": 4,
 "nbformat_minor": 5
}
